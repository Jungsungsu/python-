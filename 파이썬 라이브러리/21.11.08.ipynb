{
 "cells": [
  {
   "cell_type": "markdown",
   "id": "90a103ee",
   "metadata": {},
   "source": [
    "### 라이브러리(모듈)\n",
    "- 변수,함수,클래스들을 모아 놓은 파일"
   ]
  },
  {
   "cell_type": "markdown",
   "id": "0bdfe279",
   "metadata": {},
   "source": [
    "### 데이터 분석에 특화된 라이브러리\n",
    "- Numpy : 고성능 과학계산을 위한 데이터 분석 라이브러리\n",
    "- Pandas : 행과 열로 구성된 표 형식의 데이터를 지원하는 라이브러리\n",
    "- Matplotlib : 2D 그래프로 시각화가 가능한 라이브러리"
   ]
  },
  {
   "cell_type": "markdown",
   "id": "1d06c1bf",
   "metadata": {},
   "source": [
    "### NumPy의 주요기능\n",
    "- 빠르고 효율적인 벡터 산술연산을 제공하는 다차원배열 제공\n",
    "(ndarray 클래스)\n",
    "- 반복문 없이 전체 데이터 배열 연산이 가능한 표준 수학 함수\n",
    "(sum(),sqrt(),mean())\n",
    "\n",
    "※ sqrt : square root"
   ]
  },
  {
   "cell_type": "markdown",
   "id": "3f28bc25",
   "metadata": {},
   "source": [
    "### 라이브러리 사용하기\n",
    "- numpy 라이브러리를 import하고 앞으로 np라는 이름으로 부름\n",
    "\n",
    "import numpy as np"
   ]
  },
  {
   "cell_type": "markdown",
   "id": "3d82d1da",
   "metadata": {},
   "source": [
    "### Numpy\n",
    "- 수학/과학 계산을 위한 라이브러리로서 다차원 배열을 처리하는데 필요한 여러 기능들을 제공함"
   ]
  },
  {
   "cell_type": "code",
   "execution_count": 1,
   "id": "a221f4a1",
   "metadata": {},
   "outputs": [],
   "source": [
    "import numpy as np"
   ]
  },
  {
   "cell_type": "code",
   "execution_count": 2,
   "id": "5cad69cf",
   "metadata": {},
   "outputs": [
    {
     "data": {
      "text/plain": [
       "[1, 2, 3, 4, 5]"
      ]
     },
     "execution_count": 2,
     "metadata": {},
     "output_type": "execute_result"
    }
   ],
   "source": [
    "list_ = [1,2,3,4,5]\n",
    "list_"
   ]
  },
  {
   "cell_type": "code",
   "execution_count": 3,
   "id": "e06d8b88",
   "metadata": {},
   "outputs": [
    {
     "data": {
      "text/plain": [
       "array([1, 2, 3, 4, 5])"
      ]
     },
     "execution_count": 3,
     "metadata": {},
     "output_type": "execute_result"
    }
   ],
   "source": [
    "arr = np.array(list_)  #ndarray(다차원배열)을 실행하는 명령은 np.array\n",
    "arr"
   ]
  },
  {
   "cell_type": "code",
   "execution_count": 4,
   "id": "a476f5c0",
   "metadata": {},
   "outputs": [
    {
     "data": {
      "text/plain": [
       "array([[1, 2, 3],\n",
       "       [4, 5, 6]])"
      ]
     },
     "execution_count": 4,
     "metadata": {},
     "output_type": "execute_result"
    }
   ],
   "source": [
    "# 2차원 배열\n",
    "arr2 = np.array( [[1,2,3], [4,5,6]] )\n",
    "arr2"
   ]
  },
  {
   "cell_type": "code",
   "execution_count": 5,
   "id": "17354c94",
   "metadata": {},
   "outputs": [
    {
     "data": {
      "text/plain": [
       "(2, 3)"
      ]
     },
     "execution_count": 5,
     "metadata": {},
     "output_type": "execute_result"
    }
   ],
   "source": [
    "# 배열의 크기(행, 열) 가로:행 세로:열\n",
    "arr2.shape"
   ]
  },
  {
   "cell_type": "code",
   "execution_count": 6,
   "id": "9fafeccf",
   "metadata": {},
   "outputs": [
    {
     "data": {
      "text/plain": [
       "6"
      ]
     },
     "execution_count": 6,
     "metadata": {},
     "output_type": "execute_result"
    }
   ],
   "source": [
    "# 배열의 요소 전체 개수\n",
    "arr2.size"
   ]
  },
  {
   "cell_type": "code",
   "execution_count": 9,
   "id": "511c34d6",
   "metadata": {},
   "outputs": [
    {
     "data": {
      "text/plain": [
       "dtype('int32')"
      ]
     },
     "execution_count": 9,
     "metadata": {},
     "output_type": "execute_result"
    }
   ],
   "source": [
    "# 배열의 타입(자료형 확인)\n",
    "# 배열은 리스트와는 다르게 한 종류의 자료형으로만 구성되어야 함\n",
    "arr2.dtype\n",
    "\n",
    "# int뒤의 숫자 32는 bit를 뜻함(기계가 표현할 수 있는 범위) -> 2^32 (2의 32승)\n",
    "\n",
    "# int8 -> 1비트당 2개의 숫자를 표현(0, 1)\n",
    "#          8비트는 2^8 = 256(범위는 -128 ~ 127)"
   ]
  },
  {
   "cell_type": "code",
   "execution_count": 7,
   "id": "9cf66330",
   "metadata": {},
   "outputs": [
    {
     "data": {
      "text/plain": [
       "2"
      ]
     },
     "execution_count": 7,
     "metadata": {},
     "output_type": "execute_result"
    }
   ],
   "source": [
    "# 배열의 차원 확인\n",
    "arr2.ndim"
   ]
  },
  {
   "cell_type": "code",
   "execution_count": 10,
   "id": "48d20ad9",
   "metadata": {},
   "outputs": [],
   "source": [
    "arr3 = np.array( [ [ [1,2],[3,4] ],[ [5,6],[7,8 ] ] ])"
   ]
  },
  {
   "cell_type": "code",
   "execution_count": 11,
   "id": "f2781374",
   "metadata": {},
   "outputs": [
    {
     "name": "stdout",
     "output_type": "stream",
     "text": [
      "배열의 크기: (2, 2, 2)\n",
      "배열의 차원: 3\n",
      "배열의 전체개수: 8\n"
     ]
    }
   ],
   "source": [
    "# arr3 배열의 크기, 차원, 전체요소 개수를 출력해보세요~!\n",
    "print(\"배열의 크기:\", arr3.shape)\n",
    "print(\"배열의 차원:\", arr3.ndim)\n",
    "print(\"배열의 전체개수:\", arr3.size)"
   ]
  },
  {
   "cell_type": "code",
   "execution_count": 12,
   "id": "3446d1ed",
   "metadata": {},
   "outputs": [
    {
     "data": {
      "text/plain": [
       "array([[0., 0., 0., 0.],\n",
       "       [0., 0., 0., 0.],\n",
       "       [0., 0., 0., 0.]])"
      ]
     },
     "execution_count": 12,
     "metadata": {},
     "output_type": "execute_result"
    }
   ],
   "source": [
    "# 0으로 배열 생성\n",
    "arr_zeros = np.zeros((3,4))\n",
    "arr_zeros"
   ]
  },
  {
   "cell_type": "code",
   "execution_count": 13,
   "id": "14bc9841",
   "metadata": {},
   "outputs": [
    {
     "data": {
      "text/plain": [
       "array([[[1., 1., 1.],\n",
       "        [1., 1., 1.],\n",
       "        [1., 1., 1.],\n",
       "        [1., 1., 1.]],\n",
       "\n",
       "       [[1., 1., 1.],\n",
       "        [1., 1., 1.],\n",
       "        [1., 1., 1.],\n",
       "        [1., 1., 1.]],\n",
       "\n",
       "       [[1., 1., 1.],\n",
       "        [1., 1., 1.],\n",
       "        [1., 1., 1.],\n",
       "        [1., 1., 1.]]])"
      ]
     },
     "execution_count": 13,
     "metadata": {},
     "output_type": "execute_result"
    }
   ],
   "source": [
    "# 1로 배열 생성\n",
    "arr_ones = np.ones((3,4,3))   # (개수, 행, 열)\n",
    "arr_ones"
   ]
  },
  {
   "cell_type": "code",
   "execution_count": 14,
   "id": "a272bda4",
   "metadata": {},
   "outputs": [
    {
     "data": {
      "text/plain": [
       "array([[2, 2, 2, 2, 2],\n",
       "       [2, 2, 2, 2, 2],\n",
       "       [2, 2, 2, 2, 2],\n",
       "       [2, 2, 2, 2, 2],\n",
       "       [2, 2, 2, 2, 2]])"
      ]
     },
     "execution_count": 14,
     "metadata": {},
     "output_type": "execute_result"
    }
   ],
   "source": [
    "# 특정값으로 배열생성\n",
    "arr_full = np.full((5,5), 2)    #5행 5열의 배열을 2로 채워준다\n",
    "arr_full"
   ]
  },
  {
   "cell_type": "code",
   "execution_count": 15,
   "id": "d3e4c3ff",
   "metadata": {},
   "outputs": [
    {
     "name": "stdout",
     "output_type": "stream",
     "text": [
      "[1, 2, 3, 4, 5, 6, 7, 8, 9, 10, 11, 12, 13, 14, 15, 16, 17, 18, 19, 20, 21, 22, 23, 24, 25, 26, 27, 28, 29, 30, 31, 32, 33, 34, 35, 36, 37, 38, 39, 40, 41, 42, 43, 44, 45, 46, 47, 48, 49, 50]\n"
     ]
    },
    {
     "data": {
      "text/plain": [
       "array([ 1,  2,  3,  4,  5,  6,  7,  8,  9, 10, 11, 12, 13, 14, 15, 16, 17,\n",
       "       18, 19, 20, 21, 22, 23, 24, 25, 26, 27, 28, 29, 30, 31, 32, 33, 34,\n",
       "       35, 36, 37, 38, 39, 40, 41, 42, 43, 44, 45, 46, 47, 48, 49, 50])"
      ]
     },
     "execution_count": 15,
     "metadata": {},
     "output_type": "execute_result"
    }
   ],
   "source": [
    "# 1~ 50까지 배열 생성\n",
    "# 리스트 생성후 배열로 변환시켜보세요~!\n",
    "\n",
    "list_ = []\n",
    "\n",
    "for i in range(1,51,1):\n",
    "    list_.append(i)\n",
    "    \n",
    "print(list_)\n",
    "\n",
    "np.array(list_)"
   ]
  },
  {
   "cell_type": "code",
   "execution_count": 17,
   "id": "05b6c043",
   "metadata": {},
   "outputs": [
    {
     "data": {
      "text/plain": [
       "array([ 1,  2,  3,  4,  5,  6,  7,  8,  9, 10, 11, 12, 13, 14, 15, 16, 17,\n",
       "       18, 19, 20, 21, 22, 23, 24, 25, 26, 27, 28, 29, 30, 31, 32, 33, 34,\n",
       "       35, 36, 37, 38, 39, 40, 41, 42, 43, 44, 45, 46, 47, 48, 49, 50])"
      ]
     },
     "execution_count": 17,
     "metadata": {},
     "output_type": "execute_result"
    }
   ],
   "source": [
    "# 반복문을 사용하지 않고 배열 생성\n",
    "arr5 = np.arange(1,51,1)   #시작, 끝, 증감량\n",
    "arr5"
   ]
  },
  {
   "cell_type": "code",
   "execution_count": 18,
   "id": "4c6b1649",
   "metadata": {},
   "outputs": [
    {
     "data": {
      "text/plain": [
       "array([ 1, 11, 21, 31, 41])"
      ]
     },
     "execution_count": 18,
     "metadata": {},
     "output_type": "execute_result"
    }
   ],
   "source": [
    "# 1부터 51까지 중에서 1, 11, 21, 31, 41로 배열을 생성해보세요~!\n",
    "\n",
    "arr6 = np.arange(1,51,10)\n",
    "arr6"
   ]
  },
  {
   "cell_type": "code",
   "execution_count": 19,
   "id": "11900e3c",
   "metadata": {},
   "outputs": [
    {
     "data": {
      "text/plain": [
       "array([ 1,  2,  3,  4,  5,  6,  7,  8,  9, 10, 11, 12, 13, 14, 15, 16, 17,\n",
       "       18, 19, 20, 21, 22, 23, 24, 25, 26, 27, 28, 29, 30, 31, 32, 33, 34,\n",
       "       35, 36, 37, 38, 39, 40, 41, 42, 43, 44, 45, 46, 47, 48, 49, 50])"
      ]
     },
     "execution_count": 19,
     "metadata": {},
     "output_type": "execute_result"
    }
   ],
   "source": [
    "arr7 = np.arange(1,51)\n",
    "arr7"
   ]
  },
  {
   "cell_type": "code",
   "execution_count": 20,
   "id": "5a804032",
   "metadata": {},
   "outputs": [
    {
     "data": {
      "text/plain": [
       "array([[ 1,  2,  3,  4,  5],\n",
       "       [ 6,  7,  8,  9, 10],\n",
       "       [11, 12, 13, 14, 15],\n",
       "       [16, 17, 18, 19, 20],\n",
       "       [21, 22, 23, 24, 25],\n",
       "       [26, 27, 28, 29, 30],\n",
       "       [31, 32, 33, 34, 35],\n",
       "       [36, 37, 38, 39, 40],\n",
       "       [41, 42, 43, 44, 45],\n",
       "       [46, 47, 48, 49, 50]])"
      ]
     },
     "execution_count": 20,
     "metadata": {},
     "output_type": "execute_result"
    }
   ],
   "source": [
    "# reshape : 배열의 행과 열을 재설정해주는 명령\n",
    "# 현재는 출력만 되게 코드를 작성했음, 실제로 값을 업데이트 시켜줄려면 변수에 넣어줘야함\n",
    "arr7.reshape(10,5)"
   ]
  },
  {
   "cell_type": "code",
   "execution_count": 21,
   "id": "a71e613d",
   "metadata": {},
   "outputs": [],
   "source": [
    "arr7 =arr7.reshape(10,5)"
   ]
  },
  {
   "cell_type": "code",
   "execution_count": 22,
   "id": "f19dbdb5",
   "metadata": {},
   "outputs": [
    {
     "data": {
      "text/plain": [
       "array([[ 1,  2,  3,  4,  5],\n",
       "       [ 6,  7,  8,  9, 10],\n",
       "       [11, 12, 13, 14, 15],\n",
       "       [16, 17, 18, 19, 20],\n",
       "       [21, 22, 23, 24, 25],\n",
       "       [26, 27, 28, 29, 30],\n",
       "       [31, 32, 33, 34, 35],\n",
       "       [36, 37, 38, 39, 40],\n",
       "       [41, 42, 43, 44, 45],\n",
       "       [46, 47, 48, 49, 50]])"
      ]
     },
     "execution_count": 22,
     "metadata": {},
     "output_type": "execute_result"
    }
   ],
   "source": [
    "arr7"
   ]
  },
  {
   "cell_type": "code",
   "execution_count": 23,
   "id": "e53fd21e",
   "metadata": {},
   "outputs": [
    {
     "data": {
      "text/plain": [
       "array([1, 2, 3], dtype=int64)"
      ]
     },
     "execution_count": 23,
     "metadata": {},
     "output_type": "execute_result"
    }
   ],
   "source": [
    "# 배열의 자료형 변경\n",
    "arr8 = np.array([1.2, 2.3, 3.4], dtype = np.int64) # 64비트의 정수형으로 변경\n",
    "arr8"
   ]
  },
  {
   "cell_type": "code",
   "execution_count": 24,
   "id": "31f93898",
   "metadata": {},
   "outputs": [
    {
     "data": {
      "text/plain": [
       "array([1., 2., 3.], dtype=float32)"
      ]
     },
     "execution_count": 24,
     "metadata": {},
     "output_type": "execute_result"
    }
   ],
   "source": [
    "arr9 = np.array([1,2,3], dtype=np.float32)\n",
    "arr9"
   ]
  },
  {
   "cell_type": "code",
   "execution_count": 25,
   "id": "84892b52",
   "metadata": {},
   "outputs": [
    {
     "data": {
      "text/plain": [
       "1"
      ]
     },
     "execution_count": 25,
     "metadata": {},
     "output_type": "execute_result"
    }
   ],
   "source": [
    "# 랜덤 정수 값 생성하기\n",
    "# (그냥 random.randint는 뒷 숫자 포함이지만 np 명령은 뒷 숫자 미포함)\n",
    "arr10 = np.random.randint(3)\n",
    "arr10"
   ]
  },
  {
   "cell_type": "code",
   "execution_count": 26,
   "id": "23e81ebc",
   "metadata": {},
   "outputs": [],
   "source": [
    "import random"
   ]
  },
  {
   "cell_type": "code",
   "execution_count": 27,
   "id": "ed6ad66f",
   "metadata": {},
   "outputs": [
    {
     "data": {
      "text/plain": [
       "2"
      ]
     },
     "execution_count": 27,
     "metadata": {},
     "output_type": "execute_result"
    }
   ],
   "source": [
    "random.randint(1,3)"
   ]
  },
  {
   "cell_type": "code",
   "execution_count": 28,
   "id": "c9c86fc8",
   "metadata": {},
   "outputs": [
    {
     "data": {
      "text/plain": [
       "array([[0.16119584, 0.56605654, 0.51082577],\n",
       "       [0.44055466, 0.72546604, 0.74626793]])"
      ]
     },
     "execution_count": 28,
     "metadata": {},
     "output_type": "execute_result"
    }
   ],
   "source": [
    "# 랜덤 값 배열 생성하기\n",
    "# rand : 0~1 사이 값을 랜덤하게 생성\n",
    "arr11 = np.random.rand(2,3)  #2행 3열 값을 배열로 생성\n",
    "arr11"
   ]
  },
  {
   "cell_type": "code",
   "execution_count": 29,
   "id": "f1c53342",
   "metadata": {},
   "outputs": [
    {
     "data": {
      "text/plain": [
       "array([2, 3, 2, 4, 0, 2, 2, 3, 4, 3])"
      ]
     },
     "execution_count": 29,
     "metadata": {},
     "output_type": "execute_result"
    }
   ],
   "source": [
    "# 랜덤 값 정수형 배열 생성하기\n",
    "arr12 =np.random.randint(5, size=10)  # 5 : 0~4사이값 중에서 랜덤하게 10개 생성\n",
    "arr12"
   ]
  },
  {
   "cell_type": "code",
   "execution_count": 30,
   "id": "9cf4672c",
   "metadata": {},
   "outputs": [
    {
     "data": {
      "text/plain": [
       "array([[3, 0, 0],\n",
       "       [1, 3, 0]])"
      ]
     },
     "execution_count": 30,
     "metadata": {},
     "output_type": "execute_result"
    }
   ],
   "source": [
    "arr13 =np.random.randint(5, size=(2,3))\n",
    "arr13"
   ]
  },
  {
   "cell_type": "markdown",
   "id": "ba1f7f18",
   "metadata": {},
   "source": [
    "#### 랜덤 시드 (random seed) 설정"
   ]
  },
  {
   "cell_type": "code",
   "execution_count": 31,
   "id": "90cbd1f3",
   "metadata": {},
   "outputs": [
    {
     "data": {
      "text/plain": [
       "array([[2, 4, 2],\n",
       "       [2, 3, 3]])"
      ]
     },
     "execution_count": 31,
     "metadata": {},
     "output_type": "execute_result"
    }
   ],
   "source": [
    "#랜덤 시드 설정\n",
    "np.random.seed(5555)\n",
    "np.random.randint(5, size=(2,3))"
   ]
  },
  {
   "cell_type": "markdown",
   "id": "ac8b3ca0",
   "metadata": {},
   "source": [
    "### array 연산"
   ]
  },
  {
   "cell_type": "code",
   "execution_count": 32,
   "id": "f10a59e9",
   "metadata": {},
   "outputs": [
    {
     "data": {
      "text/plain": [
       "array([[1, 2],\n",
       "       [3, 4]])"
      ]
     },
     "execution_count": 32,
     "metadata": {},
     "output_type": "execute_result"
    }
   ],
   "source": [
    "arr14 = np.array( [ [1,2], [3,4] ])\n",
    "arr14"
   ]
  },
  {
   "cell_type": "code",
   "execution_count": 33,
   "id": "80c55052",
   "metadata": {},
   "outputs": [
    {
     "data": {
      "text/plain": [
       "array([[2, 4],\n",
       "       [6, 8]])"
      ]
     },
     "execution_count": 33,
     "metadata": {},
     "output_type": "execute_result"
    }
   ],
   "source": [
    "arr14+arr14"
   ]
  },
  {
   "cell_type": "code",
   "execution_count": 34,
   "id": "659fe6bd",
   "metadata": {},
   "outputs": [
    {
     "data": {
      "text/plain": [
       "array([[ 1,  4],\n",
       "       [ 9, 16]])"
      ]
     },
     "execution_count": 34,
     "metadata": {},
     "output_type": "execute_result"
    }
   ],
   "source": [
    "arr14 * arr14"
   ]
  },
  {
   "cell_type": "code",
   "execution_count": 35,
   "id": "a1725936",
   "metadata": {},
   "outputs": [
    {
     "data": {
      "text/plain": [
       "array([[1., 1.],\n",
       "       [1., 1.]])"
      ]
     },
     "execution_count": 35,
     "metadata": {},
     "output_type": "execute_result"
    }
   ],
   "source": [
    "arr14 / arr14"
   ]
  },
  {
   "cell_type": "code",
   "execution_count": 36,
   "id": "8fb0689f",
   "metadata": {},
   "outputs": [
    {
     "data": {
      "text/plain": [
       "array([[0, 0],\n",
       "       [0, 0]], dtype=int32)"
      ]
     },
     "execution_count": 36,
     "metadata": {},
     "output_type": "execute_result"
    }
   ],
   "source": [
    "arr14 % arr14"
   ]
  },
  {
   "cell_type": "code",
   "execution_count": 37,
   "id": "a13f44ab",
   "metadata": {},
   "outputs": [
    {
     "data": {
      "text/plain": [
       "array([2, 4, 6, 8])"
      ]
     },
     "execution_count": 37,
     "metadata": {},
     "output_type": "execute_result"
    }
   ],
   "source": [
    "arr15 = np.arange(2,10,2)\n",
    "arr15"
   ]
  },
  {
   "cell_type": "code",
   "execution_count": 38,
   "id": "55dd66c7",
   "metadata": {},
   "outputs": [
    {
     "data": {
      "text/plain": [
       "array([ 4,  8, 12, 16])"
      ]
     },
     "execution_count": 38,
     "metadata": {},
     "output_type": "execute_result"
    }
   ],
   "source": [
    "arr15 * 2"
   ]
  },
  {
   "cell_type": "markdown",
   "id": "a4fcaab0",
   "metadata": {},
   "source": [
    "### Numpy 배열의 접근은 어떻게 해야 할까?\n",
    "- numpy는 파이썬 리스트와 마찬가지로 인덱싱, 슬라이싱 지원함"
   ]
  },
  {
   "cell_type": "markdown",
   "id": "bad6fe3e",
   "metadata": {},
   "source": [
    "### 1.numpy 인덱싱"
   ]
  },
  {
   "cell_type": "code",
   "execution_count": 21,
   "id": "249aed4b",
   "metadata": {},
   "outputs": [
    {
     "data": {
      "text/plain": [
       "array([[1, 2, 3],\n",
       "       [4, 5, 6]])"
      ]
     },
     "execution_count": 21,
     "metadata": {},
     "output_type": "execute_result"
    }
   ],
   "source": [
    "arr16 = np.array([ [1,2,3], [4,5,6] ])\n",
    "arr16"
   ]
  },
  {
   "cell_type": "code",
   "execution_count": 22,
   "id": "97f28256",
   "metadata": {},
   "outputs": [
    {
     "data": {
      "text/plain": [
       "array([1, 2, 3])"
      ]
     },
     "execution_count": 22,
     "metadata": {},
     "output_type": "execute_result"
    }
   ],
   "source": [
    "arr16[0]"
   ]
  },
  {
   "cell_type": "code",
   "execution_count": null,
   "id": "b0155ebb",
   "metadata": {},
   "outputs": [],
   "source": [
    "arr16[0][1]"
   ]
  },
  {
   "cell_type": "markdown",
   "id": "b500688f",
   "metadata": {},
   "source": [
    "#### 2.numpy 슬라이싱"
   ]
  },
  {
   "cell_type": "code",
   "execution_count": null,
   "id": "d955c9ca",
   "metadata": {},
   "outputs": [],
   "source": [
    "arr17 = np.arange(10)\n",
    "arr17"
   ]
  },
  {
   "cell_type": "code",
   "execution_count": null,
   "id": "a2b2b616",
   "metadata": {},
   "outputs": [],
   "source": [
    "arr17[3:8] = 10"
   ]
  },
  {
   "cell_type": "code",
   "execution_count": null,
   "id": "2169e2ad",
   "metadata": {},
   "outputs": [],
   "source": [
    "arr17"
   ]
  },
  {
   "cell_type": "code",
   "execution_count": 40,
   "id": "eba5383a",
   "metadata": {},
   "outputs": [
    {
     "data": {
      "text/plain": [
       "array([[ 0,  1,  2,  3,  4,  5,  6,  7,  8,  9],\n",
       "       [10, 11, 12, 13, 14, 15, 16, 17, 18, 19],\n",
       "       [20, 21, 22, 23, 24, 25, 26, 27, 28, 29],\n",
       "       [30, 31, 32, 33, 34, 35, 36, 37, 38, 39],\n",
       "       [40, 41, 42, 43, 44, 45, 46, 47, 48, 49]])"
      ]
     },
     "execution_count": 40,
     "metadata": {},
     "output_type": "execute_result"
    }
   ],
   "source": [
    "arr18 = np.arange(50).reshape(5,10)\n",
    "arr18"
   ]
  },
  {
   "cell_type": "code",
   "execution_count": 41,
   "id": "9c8ce7f4",
   "metadata": {},
   "outputs": [
    {
     "data": {
      "text/plain": [
       "array([[ 0,  1,  2,  3,  4,  5,  6,  7,  8,  9],\n",
       "       [10, 11, 12, 13, 14, 15, 16, 17, 18, 19],\n",
       "       [20, 21, 22, 23, 24, 25, 26, 27, 28, 29],\n",
       "       [30, 31, 32, 33, 34, 35, 36, 37, 38, 39]])"
      ]
     },
     "execution_count": 41,
     "metadata": {},
     "output_type": "execute_result"
    }
   ],
   "source": [
    "# 첫번째, 두번째 행을 모두 출력\n",
    "arr18[0:4, : ]   # arr18[행의범위, 열의범위]"
   ]
  },
  {
   "cell_type": "code",
   "execution_count": 42,
   "id": "0ce8f8d9",
   "metadata": {},
   "outputs": [
    {
     "data": {
      "text/plain": [
       "array([ 0, 10, 20, 30, 40])"
      ]
     },
     "execution_count": 42,
     "metadata": {},
     "output_type": "execute_result"
    }
   ],
   "source": [
    "arr18[:, 0] # 모든 행의 0번째 열을 출력"
   ]
  },
  {
   "cell_type": "code",
   "execution_count": 43,
   "id": "dab08a67",
   "metadata": {},
   "outputs": [
    {
     "data": {
      "text/plain": [
       "array([[ 7,  8,  9],\n",
       "       [17, 18, 19]])"
      ]
     },
     "execution_count": 43,
     "metadata": {},
     "output_type": "execute_result"
    }
   ],
   "source": [
    "# 1번 인덱스 행까지와 7번 인덱스 열부터 끝까지 접근\n",
    "arr18[:2, 7: ]"
   ]
  },
  {
   "cell_type": "code",
   "execution_count": 44,
   "id": "13ad49d7",
   "metadata": {},
   "outputs": [
    {
     "data": {
      "text/plain": [
       "array([[ 0,  1,  2,  3,  4,  5],\n",
       "       [ 6,  7,  8,  9, 10, 11],\n",
       "       [12, 13, 14, 15, 16, 17]])"
      ]
     },
     "execution_count": 44,
     "metadata": {},
     "output_type": "execute_result"
    }
   ],
   "source": [
    "arr19 = np.arange(18).reshape(3,6)\n",
    "arr19"
   ]
  },
  {
   "cell_type": "code",
   "execution_count": 45,
   "id": "968f7f10",
   "metadata": {},
   "outputs": [
    {
     "data": {
      "text/plain": [
       "array([[ 7,  9, 11],\n",
       "       [13, 15, 17]])"
      ]
     },
     "execution_count": 45,
     "metadata": {},
     "output_type": "execute_result"
    }
   ],
   "source": [
    "# 방법 1\n",
    "arr19[1:, [1,3,5]]"
   ]
  },
  {
   "cell_type": "code",
   "execution_count": 46,
   "id": "acec3a15",
   "metadata": {},
   "outputs": [
    {
     "data": {
      "text/plain": [
       "array([[ 7,  9, 11],\n",
       "       [13, 15, 17]])"
      ]
     },
     "execution_count": 46,
     "metadata": {},
     "output_type": "execute_result"
    }
   ],
   "source": [
    "# 방법 2\n",
    "arr19[1:, 1::2]  # 1번 열 인덱스 부터 2씩 증가"
   ]
  },
  {
   "cell_type": "code",
   "execution_count": null,
   "id": "599286bc",
   "metadata": {},
   "outputs": [],
   "source": [
    "# 배열의 행과 열을 바꾸기\n",
    "arr19"
   ]
  },
  {
   "cell_type": "code",
   "execution_count": null,
   "id": "87f9e7a7",
   "metadata": {},
   "outputs": [],
   "source": [
    "arr19.T"
   ]
  },
  {
   "cell_type": "code",
   "execution_count": null,
   "id": "1e8dc591",
   "metadata": {},
   "outputs": [],
   "source": [
    "arr19 = arr19.T"
   ]
  },
  {
   "cell_type": "code",
   "execution_count": null,
   "id": "77a97ef9",
   "metadata": {},
   "outputs": [],
   "source": [
    "arr19"
   ]
  },
  {
   "cell_type": "markdown",
   "id": "edca977f",
   "metadata": {},
   "source": [
    "### Numpy 불리언 인덱싱\n",
    "- 특정 조건에 맞으면 True, 아니면 False값으로 배열을 만들어 조건에 맞는 값에 접근하는 방식"
   ]
  },
  {
   "cell_type": "code",
   "execution_count": 47,
   "id": "4eac8e05",
   "metadata": {},
   "outputs": [
    {
     "data": {
      "text/plain": [
       "array([66, 66, 62, 94, 85, 58, 63, 98])"
      ]
     },
     "execution_count": 47,
     "metadata": {},
     "output_type": "execute_result"
    }
   ],
   "source": [
    "# 50 ~ 99까지의 범위에서 8개의 값을 가지는 1차원 배열을 생성\n",
    "arr20 = np.array(np.random.randint(50, 100, size=8))\n",
    "arr20"
   ]
  },
  {
   "cell_type": "code",
   "execution_count": 48,
   "id": "3c5d84d8",
   "metadata": {},
   "outputs": [
    {
     "data": {
      "text/plain": [
       "array([False, False, False,  True,  True, False, False,  True])"
      ]
     },
     "execution_count": 48,
     "metadata": {},
     "output_type": "execute_result"
    }
   ],
   "source": [
    "arr20 >= 70"
   ]
  },
  {
   "cell_type": "code",
   "execution_count": 49,
   "id": "02fab7fe",
   "metadata": {},
   "outputs": [
    {
     "data": {
      "text/plain": [
       "array([ True,  True,  True,  True, False,  True, False,  True])"
      ]
     },
     "execution_count": 49,
     "metadata": {},
     "output_type": "execute_result"
    }
   ],
   "source": [
    "# arr20 배열에서 짝수인 값을 판단\n",
    "arr20 % 2 == 0"
   ]
  },
  {
   "cell_type": "code",
   "execution_count": 50,
   "id": "ffa57d4f",
   "metadata": {},
   "outputs": [
    {
     "data": {
      "text/plain": [
       "array([66, 66, 62, 94, 58, 98])"
      ]
     },
     "execution_count": 50,
     "metadata": {},
     "output_type": "execute_result"
    }
   ],
   "source": [
    "# True, False가 아닌 실제 값을 보고 싶을 경우\n",
    "# 배열명[배열 내에서 찾고자 하는 조건] -> True 값만 출력이 됨\n",
    "arr20[arr20 % 2 == 0]"
   ]
  },
  {
   "cell_type": "code",
   "execution_count": 51,
   "id": "b231c347",
   "metadata": {},
   "outputs": [
    {
     "data": {
      "text/plain": [
       "array([94, 85, 98])"
      ]
     },
     "execution_count": 51,
     "metadata": {},
     "output_type": "execute_result"
    }
   ],
   "source": [
    "arr20[arr20 >= 70]"
   ]
  },
  {
   "cell_type": "code",
   "execution_count": 3,
   "id": "283e6b77",
   "metadata": {},
   "outputs": [
    {
     "data": {
      "text/plain": [
       "array([[0, 9, 0, 0, 7],\n",
       "       [0, 3, 5, 0, 1]])"
      ]
     },
     "execution_count": 3,
     "metadata": {},
     "output_type": "execute_result"
    }
   ],
   "source": [
    "# 다음 2차원 배열에서 값이 짝수이면 0으로 변경하는 코드를 작성해보자~!\n",
    "arr = np.array( [ [6,9,6,8,7], [2,3,5,4,1]\n",
    "                ])\n",
    "arr[arr%2==0] = 0       # arr%2==0 자체가 조건이 됨\n",
    "arr"
   ]
  },
  {
   "cell_type": "code",
   "execution_count": 52,
   "id": "7c503903",
   "metadata": {},
   "outputs": [
    {
     "data": {
      "text/plain": [
       "array([[12,  9, 12,  8,  7],\n",
       "       [ 2,  3,  5,  4,  1]])"
      ]
     },
     "execution_count": 52,
     "metadata": {},
     "output_type": "execute_result"
    }
   ],
   "source": []
  },
  {
   "cell_type": "code",
   "execution_count": null,
   "id": "9bd483c8",
   "metadata": {},
   "outputs": [],
   "source": []
  },
  {
   "cell_type": "code",
   "execution_count": null,
   "id": "3afc8200",
   "metadata": {},
   "outputs": [],
   "source": []
  },
  {
   "cell_type": "code",
   "execution_count": null,
   "id": "1b01df91",
   "metadata": {},
   "outputs": [],
   "source": []
  },
  {
   "cell_type": "code",
   "execution_count": null,
   "id": "7e83757c",
   "metadata": {},
   "outputs": [],
   "source": []
  },
  {
   "cell_type": "code",
   "execution_count": null,
   "id": "ca285015",
   "metadata": {},
   "outputs": [],
   "source": []
  },
  {
   "cell_type": "code",
   "execution_count": null,
   "id": "0a6edb00",
   "metadata": {},
   "outputs": [],
   "source": []
  }
 ],
 "metadata": {
  "kernelspec": {
   "display_name": "Python 3",
   "language": "python",
   "name": "python3"
  },
  "language_info": {
   "codemirror_mode": {
    "name": "ipython",
    "version": 3
   },
   "file_extension": ".py",
   "mimetype": "text/x-python",
   "name": "python",
   "nbconvert_exporter": "python",
   "pygments_lexer": "ipython3",
   "version": "3.8.8"
  }
 },
 "nbformat": 4,
 "nbformat_minor": 5
}
