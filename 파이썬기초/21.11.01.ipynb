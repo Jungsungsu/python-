{
 "cells": [
  {
   "cell_type": "code",
   "execution_count": null,
   "id": "4f100d45",
   "metadata": {},
   "outputs": [],
   "source": [
    "num = 27\n",
    "num += 3\n",
    "num"
   ]
  },
  {
   "cell_type": "code",
   "execution_count": null,
   "id": "13253e04",
   "metadata": {},
   "outputs": [],
   "source": [
    "num2 = 100\n",
    "\n",
    "num= num-55\n",
    "num"
   ]
  },
  {
   "cell_type": "code",
   "execution_count": null,
   "id": "c5d01664",
   "metadata": {},
   "outputs": [],
   "source": [
    "num = 27\n",
    "num += 3\n",
    "num += 3\n",
    "num += 3\n",
    "num"
   ]
  },
  {
   "cell_type": "code",
   "execution_count": null,
   "id": "52573965",
   "metadata": {},
   "outputs": [],
   "source": [
    "num = 100\n",
    "num /= 2\n",
    "num /= 2\n",
    "num"
   ]
  },
  {
   "cell_type": "code",
   "execution_count": null,
   "id": "d82fbb98",
   "metadata": {},
   "outputs": [],
   "source": [
    "a=3\n",
    "b=7\n",
    "\n",
    "print(a>b)\n",
    "print(a<=b)\n",
    "print(a==b)\n",
    "print(a!=b)"
   ]
  },
  {
   "cell_type": "code",
   "execution_count": null,
   "id": "ef197c91",
   "metadata": {},
   "outputs": [],
   "source": [
    "import random\n",
    "\n",
    "a= random.randint(1,10)\n",
    "b= random.randint(1,10)\n",
    "print(\"a:{}, b:{}\".format(a,b))\n",
    "print(f\"a:{a}. b:{b}\")\n",
    "\n",
    "print(a<b)\n",
    "print(a>b)\n",
    "print(a==b)\n",
    "print(a!=b)"
   ]
  },
  {
   "cell_type": "code",
   "execution_count": null,
   "id": "426cd391",
   "metadata": {},
   "outputs": [],
   "source": [
    "a=3\n",
    "b=7\n",
    "not a<b"
   ]
  },
  {
   "cell_type": "code",
   "execution_count": null,
   "id": "2439e0ae",
   "metadata": {},
   "outputs": [],
   "source": [
    "a=3\n",
    "b=7\n",
    "not a==b"
   ]
  },
  {
   "cell_type": "code",
   "execution_count": null,
   "id": "3551a65f",
   "metadata": {},
   "outputs": [],
   "source": [
    "3>5 and 10 ==20"
   ]
  },
  {
   "cell_type": "code",
   "execution_count": null,
   "id": "f0bf964c",
   "metadata": {},
   "outputs": [],
   "source": [
    "3>5 and 10<20"
   ]
  },
  {
   "cell_type": "code",
   "execution_count": null,
   "id": "b60bc0bb",
   "metadata": {},
   "outputs": [],
   "source": [
    "3<5 and 10<20"
   ]
  },
  {
   "cell_type": "code",
   "execution_count": null,
   "id": "83548a59",
   "metadata": {},
   "outputs": [],
   "source": [
    "print(3>5 and 10 ==20)\n",
    "print(3>5 and 10<20)\n",
    "print(3<5 and 10<20)"
   ]
  },
  {
   "cell_type": "code",
   "execution_count": null,
   "id": "ea618275",
   "metadata": {},
   "outputs": [],
   "source": [
    "print(3>5 or 10==20)\n",
    "print(3>5 or 10<20)\n",
    "print(3<5 or 10<20)"
   ]
  },
  {
   "cell_type": "markdown",
   "id": "62bfdfd2",
   "metadata": {},
   "source": [
    "##### 삼항 연산자 a if 조건식 else b\n",
    "        true               false"
   ]
  },
  {
   "cell_type": "code",
   "execution_count": null,
   "id": "8ae80c87",
   "metadata": {},
   "outputs": [],
   "source": [
    "score = 80\n",
    "\"합격\" if score>=60 else \"불합격\""
   ]
  },
  {
   "cell_type": "code",
   "execution_count": null,
   "id": "dd2e7ae0",
   "metadata": {},
   "outputs": [],
   "source": [
    "score = 50\n",
    "\"합격\" if score >= 60 else \"불합격\""
   ]
  },
  {
   "cell_type": "code",
   "execution_count": null,
   "id": "6c134665",
   "metadata": {},
   "outputs": [],
   "source": [
    "a = int(input(\"정수입력 >> \"))\n",
    "b= int(input(\"정수입력 >> \"))\n",
    "print(\"a:\",a) if a>b else print(\"b:\", b)"
   ]
  },
  {
   "cell_type": "code",
   "execution_count": null,
   "id": "2571573a",
   "metadata": {},
   "outputs": [],
   "source": [
    "num= int(input(\"정수입력>> \"))\n",
    "print(f\"{num} 는(은) 짝수입니다.\") if num%2==0 else print(f\"{num} 는(은) 홀수입니다.\")"
   ]
  },
  {
   "cell_type": "code",
   "execution_count": null,
   "id": "220ece0a",
   "metadata": {},
   "outputs": [],
   "source": [
    "num1 = int(input(\"첫 번째 정수 입력 >>\"))\n",
    "num2 = int(input(\"두 번째 정수 입력 >>\"))\n",
    "print(f\"두 수의 차 : {num1-num2}\" )if num1>=num2 else print(f\"두 수의 차 : {num2-num1}\" )"
   ]
  },
  {
   "cell_type": "markdown",
   "id": "c284fdc8",
   "metadata": {},
   "source": [
    "if 조건식:\n",
    "    실행문장\n",
    "    실행문장"
   ]
  },
  {
   "cell_type": "code",
   "execution_count": null,
   "id": "a071a552",
   "metadata": {},
   "outputs": [],
   "source": [
    "if True:\n",
    "    print(\"실행문장 실행\")"
   ]
  },
  {
   "cell_type": "code",
   "execution_count": null,
   "id": "27ba1c4f",
   "metadata": {},
   "outputs": [],
   "source": [
    "if True:\n",
    "    print(\"실행문장 실행\")\n",
    "print(\"if문 밖에 있는 실행문장\")"
   ]
  },
  {
   "cell_type": "code",
   "execution_count": null,
   "id": "a4987638",
   "metadata": {},
   "outputs": [],
   "source": [
    "if False:\n",
    "    print(\"실행문장 실행\")\n",
    "print(\"if문 밖에 있는 실행문장\")"
   ]
  },
  {
   "cell_type": "code",
   "execution_count": null,
   "id": "c5b964c5",
   "metadata": {},
   "outputs": [],
   "source": [
    "a= 3\n",
    "if a<5:  #True면 둘다 출력되고 #False면 조건문 밖에있는 문장이 실행이 됨.\n",
    "    print(\"야호\") \n",
    "print(\"ㅠㅠ\")"
   ]
  },
  {
   "cell_type": "code",
   "execution_count": null,
   "id": "5d7e16de",
   "metadata": {},
   "outputs": [],
   "source": [
    "a=8\n",
    "b=6\n",
    "c=7\n",
    "if a>b and c>b:\n",
    "    print(\"야호\")\n",
    "print(\"ㅎㅎㅎ\")"
   ]
  },
  {
   "cell_type": "code",
   "execution_count": null,
   "id": "0422d91b",
   "metadata": {},
   "outputs": [],
   "source": [
    "money=11000\n",
    "if money>=10000:\n",
    "    print(\"택시를 탄다.\")"
   ]
  },
  {
   "cell_type": "code",
   "execution_count": null,
   "id": "00984f36",
   "metadata": {},
   "outputs": [],
   "source": [
    "money=9000\n",
    "if money<9000:\n",
    "    print(\"택시를 탄다.\")\n",
    "print(\"버스를 탄다.\")"
   ]
  },
  {
   "cell_type": "code",
   "execution_count": null,
   "id": "a04b5bbf",
   "metadata": {},
   "outputs": [],
   "source": [
    "num = int(input(\"정수 입력 >> \"))\n",
    "if num%3==0 and num%5==0:\n",
    "    print(\"3과 5의 배수입니다\")\n",
    "else:\n",
    "    print(\"3과 5의 배수가 아닙니다.\")"
   ]
  },
  {
   "cell_type": "markdown",
   "id": "5490284d",
   "metadata": {},
   "source": [
    "어려운 문제"
   ]
  },
  {
   "cell_type": "code",
   "execution_count": null,
   "id": "f2556894",
   "metadata": {},
   "outputs": [],
   "source": [
    "num = int(input(\"마스크 개수 입력 : \"))\n",
    "if num>=8 :\n",
    "    print(f\"8개들의 포장 개수 : {num//8}\")\n",
    "    if num%8 <=5 and num%8!=0 : \n",
    "        print(f\"5개들의 포장 개수 : {1}\")\n",
    "    if num%8>5  :\n",
    "        print(f\"5개들의 포장 개수 : {((num//8)%5)+1}\")\n",
    "    if num%8==0 : \n",
    "        print(f\"5개들의 포장 개수 : 0\")\n",
    "            \n",
    "        \n",
    "else :  \n",
    "    print(\"8개들의 포장지 개수 : 0\")\n",
    "    print(f\"5개들의 포장 개수 : {((num//5))+1}\")"
   ]
  },
  {
   "cell_type": "code",
   "execution_count": null,
   "id": "6df34e3f",
   "metadata": {},
   "outputs": [],
   "source": [
    "countOfMask = int(input(\"마스크 개수 입력 >> \"))\n",
    "\n",
    "#마스크가 8개 이상일 경우와 아닐 경우로 구분해보자~!\n",
    "if countOfMask >= 8:\n",
    "    eight = countOfMask //8\n",
    "    five = (countOfMask % 8) //5\n",
    "    rest = (countOfMask % 8) %5\n",
    "    #8개들이로 포장하고 남은 마스크를 5개들이로 포장하고 남은 나머지에 대한 조건\n",
    "    if rest > 0:\n",
    "        five +=1 #복합 대입연산자 : five = five+1\n",
    "    print(f\"8개 들이 포장지 개수 : {eight}\")\n",
    "    print(f\"5개 들이 포장지 개수 : {five}\")\n",
    "else:\n",
    "    five = countOfMask // 5\n",
    "    rest = countOfMask % 5\n",
    "    print(f\"8개 둘이 포장지 개수 :0\")\n",
    "    if rest == 0:\n",
    "        print(f\"5개 들이 포장지 개수 : {five}\")\n",
    "    else:\n",
    "        print(f\"5개 들이 포장지 개수 : {five+1}\")"
   ]
  },
  {
   "cell_type": "code",
   "execution_count": null,
   "id": "f8928c18",
   "metadata": {
    "scrolled": true
   },
   "outputs": [],
   "source": [
    "countOfMask = int(input(\"마스크 개수 입력 >> \"))\n",
    "eightBox = countOfMask // 8\n",
    "\n",
    "if((countOfMask%8)%5 > 0):    \n",
    "    fiveBox = (countOfMask%8)//5 + 1\n",
    "else:\n",
    "    fiveBox = (countOfMask%8)//5\n",
    "print(\"8개들이 포장지 개수:\",eightBox)    \n",
    "print(\"5개들이 포장지 개수:\",fiveBox)"
   ]
  },
  {
   "cell_type": "markdown",
   "id": "d5201f53",
   "metadata": {},
   "source": [
    "끝"
   ]
  },
  {
   "cell_type": "markdown",
   "id": "4736fd4e",
   "metadata": {},
   "source": [
    "- if 조건식1:\n",
    "-    실행문장1\n",
    "- elif 조건식2:\n",
    "-    실행문장2\n",
    "\n",
    "- if 조건식1:\n",
    "-    실행문장1\n",
    "- elif 조건식2:\n",
    "-    실행문장2\n",
    "- else:\n",
    "-    실행문장3"
   ]
  },
  {
   "cell_type": "code",
   "execution_count": null,
   "id": "5f86d521",
   "metadata": {},
   "outputs": [],
   "source": [
    "if True:\n",
    "    print(\"실행문장1\")\n",
    "elif True:\n",
    "    print(\"실행문장2\")"
   ]
  },
  {
   "cell_type": "code",
   "execution_count": null,
   "id": "7ad35352",
   "metadata": {},
   "outputs": [],
   "source": [
    "num1 = int(input(\"첫 번째 정수 입력 >>\"))\n",
    "num2 = int(input(\"두 번째 정수 입력 >>\"))\n",
    "if num1>num2:\n",
    "    print(\"첫 번째 정수가 더 큽니다.\")\n",
    "elif num1<num2:\n",
    "    print(\"두 번째 정수가 더 큽니다.\")\n",
    "elif num1==num2:\n",
    "    print(\"두 수가 똑같습니다.\")"
   ]
  },
  {
   "cell_type": "code",
   "execution_count": null,
   "id": "a38aa6b6",
   "metadata": {},
   "outputs": [],
   "source": [
    "score = int(input(\"점수 입력 >>\"))\n",
    "if score >=90 and score<100:\n",
    "    print(f\"{score}점은 A학점 입니다.\")\n",
    "elif score >=80 and score<90:\n",
    "    print(f\"{score}점은 B학점 입니다.\")\n",
    "elif score >=70 and score<80:\n",
    "    print(f\"{score}점은 C학점 입니다.\")\n",
    "elif score >=60 and score<70:\n",
    "    print(f\"{score}점은 D학점 입니다.\")\n",
    "else:\n",
    "    print(f\"{score}점은 F학점 입니다.\")"
   ]
  },
  {
   "cell_type": "code",
   "execution_count": null,
   "id": "63dcccbc",
   "metadata": {},
   "outputs": [],
   "source": [
    "score = int(input(\"점수 입력 >>\"))\n",
    "if score >=90:\n",
    "    grade = 'A'\n",
    "elif score >=80:\n",
    "    grade= 'B'\n",
    "elif score >=70:\n",
    "    grade= 'C'\n",
    "elif score >=60:\n",
    "    grade= 'D'\n",
    "else:\n",
    "    grade ='F'\n",
    "    \n",
    "print(f\"{score}는 {grade}학점 입니다.\")"
   ]
  },
  {
   "cell_type": "code",
   "execution_count": null,
   "id": "ac107815",
   "metadata": {},
   "outputs": [],
   "source": [
    "age = int(input(\"나이 입력 >> \"))\n",
    "number = 1500\n",
    "if age < 5:\n",
    "    print(f\"요금은 {int(number/2)} 원 입니다.\")\n",
    "elif 20>age>=5:\n",
    "    print(f\"요금은 {int(number *0.75)} 원 입니다.\")\n",
    "elif age >= 65:\n",
    "    print(f\"요금은 {int(number*0.25)} 원 입니다.\")\n",
    "else :\n",
    "    print(f\"요금은 {int(number)}원 입니다.\")"
   ]
  },
  {
   "cell_type": "code",
   "execution_count": null,
   "id": "28dfcd4b",
   "metadata": {},
   "outputs": [],
   "source": [
    "print(\"======================================================================\")\n",
    "print(\"========================---- 자판기 ----==============================\")\n",
    "print(\"======================================================================\")\n",
    "print(\"==1.콜라 == 2.사이다 == 3.물 ==========================insert=========\")\n",
    "print(\"==-------==----------==------------====================------=========\")\n",
    "print(\"==  600  ==    800   == 1000 ==========================000원 =========\")\n",
    "print(\"======================================================================\")\n",
    "\n",
    "money = int(input(\"insert coin >>\"))\n",
    "menu = int(input(\"메뉴 선택 >>\"))\n",
    "\n",
    "\n",
    "if menu==1:\n",
    "    money = money-600\n",
    "    if money<0:\n",
    "        print(\"잔액이 부족합니다.\")\n",
    "    else:\n",
    "        print(f\"잔돈 >> 1000원 {cola//1000}개, 500원 {cola%1000//500}개, 100원{cola%500//100}개\")\n",
    "elif menu==2:\n",
    "    money = money-800\n",
    "    if money<0:\n",
    "        print(\"잔액이 부족합니다.\")\n",
    "    else:\n",
    "        print(f\"잔돈 >> 1000원 {cider//1000}개, 500원 {cider%1000//500}개, 100원{cider%500//100}개\")\n",
    "elif menu==3:\n",
    "    money = money-1000\n",
    "    if money<0:\n",
    "        print(\"잔액이 부족합니다.\")\n",
    "    else:\n",
    "        print(f\"잔돈 >> 1000원 {water//1000}개, 500원 {water%1000//500}개, 100원{water%500//100}개\")\n",
    "else:\n",
    "    print(\"잘못된 메뉴\")"
   ]
  },
  {
   "cell_type": "code",
   "execution_count": null,
   "id": "b26150b5",
   "metadata": {},
   "outputs": [],
   "source": [
    "list1 = [2,5,7,9,10]\n",
    "print(list1[0])\n",
    "print(list1[3])\n",
    "print(list1[2]+list1[-1])"
   ]
  },
  {
   "cell_type": "code",
   "execution_count": null,
   "id": "dd4cf36c",
   "metadata": {},
   "outputs": [],
   "source": [
    "list2 = [1, 2, 3, ['a','b','c']]\n",
    "temp = print(list2[3])"
   ]
  },
  {
   "cell_type": "markdown",
   "id": "98531772",
   "metadata": {},
   "source": [
    "리스트"
   ]
  },
  {
   "cell_type": "code",
   "execution_count": null,
   "id": "d5b6af1f",
   "metadata": {},
   "outputs": [],
   "source": [
    "list2 = [1, 2, 3, ['a','b','c']]\n",
    "list2[3][1]"
   ]
  },
  {
   "cell_type": "code",
   "execution_count": null,
   "id": "82b09066",
   "metadata": {},
   "outputs": [],
   "source": [
    "list3 = [0,1,2,3,4]\n",
    "list3[1:3]"
   ]
  },
  {
   "cell_type": "code",
   "execution_count": null,
   "id": "05a094df",
   "metadata": {},
   "outputs": [],
   "source": [
    "list4 = [1,2,3]\n",
    "list5 = [3,4,5,6]\n",
    "list4 + list5"
   ]
  },
  {
   "cell_type": "code",
   "execution_count": 12,
   "id": "6ff78b37",
   "metadata": {},
   "outputs": [
    {
     "data": {
      "text/plain": [
       "[0, 1, 2, 3, 4, 5]"
      ]
     },
     "execution_count": 12,
     "metadata": {},
     "output_type": "execute_result"
    }
   ],
   "source": [
    "list5 = [0,1,2,3,4]\n",
    "list5.append(5)\n",
    "list5"
   ]
  },
  {
   "cell_type": "code",
   "execution_count": 13,
   "id": "5ebbb088",
   "metadata": {},
   "outputs": [
    {
     "data": {
      "text/plain": [
       "[0, 1, 2, 3, 4, 5, 6]"
      ]
     },
     "execution_count": 13,
     "metadata": {},
     "output_type": "execute_result"
    }
   ],
   "source": [
    "list5.append(6)\n",
    "list5"
   ]
  },
  {
   "cell_type": "code",
   "execution_count": null,
   "id": "941fb5ad",
   "metadata": {},
   "outputs": [],
   "source": [
    "list = ['사과', '포도', ['수박','멜론'], '복숭아', '딸기', '오렌지']\n",
    "choise_list = [list[0],list[5],list[2][0]]\n",
    "print(choise_list)"
   ]
  },
  {
   "cell_type": "code",
   "execution_count": 14,
   "id": "08c48261",
   "metadata": {},
   "outputs": [
    {
     "data": {
      "text/plain": [
       "[0, 5, 1, 2, 3, 4]"
      ]
     },
     "execution_count": 14,
     "metadata": {},
     "output_type": "execute_result"
    }
   ],
   "source": [
    "list5 = [0,1,2,3,4]\n",
    "list5.insert(1,5)\n",
    "list5"
   ]
  },
  {
   "cell_type": "code",
   "execution_count": null,
   "id": "4b805c6b",
   "metadata": {},
   "outputs": [],
   "source": [
    "list5.insert(5,6)\n",
    "list5"
   ]
  },
  {
   "cell_type": "code",
   "execution_count": null,
   "id": "9b0a88ef",
   "metadata": {},
   "outputs": [],
   "source": [
    "music_list = [[\"Dynamite\", \"방탄소년단\"], [\"Your Lights\", \"이수\"], [\"고백\", \"허각\"]]"
   ]
  },
  {
   "cell_type": "code",
   "execution_count": null,
   "id": "2be40351",
   "metadata": {},
   "outputs": [],
   "source": [
    "music_list.insert(1,[\"롤린\", \"브레이브걸스\"])"
   ]
  },
  {
   "cell_type": "code",
   "execution_count": null,
   "id": "5b32c1fe",
   "metadata": {},
   "outputs": [],
   "source": [
    "music_list.insert(3,[\"Celebrity\", \"아이유\"])\n",
    "music_list"
   ]
  },
  {
   "cell_type": "code",
   "execution_count": null,
   "id": "9d6f810f",
   "metadata": {},
   "outputs": [],
   "source": [
    "index_value = int(input(\"인덱스 입력 >>\"))\n",
    "song = input(\"노래 제목 >>\")\n",
    "singer = input(\"가수명 >>\")\n",
    "\n",
    "music_list.insert(index_value, [song, singer])\n",
    "music_list"
   ]
  },
  {
   "cell_type": "code",
   "execution_count": null,
   "id": "cad226fc",
   "metadata": {},
   "outputs": [],
   "source": [
    "list6 = [0,1,2,3,4]\n",
    "list6"
   ]
  },
  {
   "cell_type": "code",
   "execution_count": 2,
   "id": "cb0f4f32",
   "metadata": {
    "scrolled": true
   },
   "outputs": [
    {
     "name": "stdout",
     "output_type": "stream",
     "text": [
      "수정 전 : 1\n",
      "수정 후 : 7\n"
     ]
    }
   ],
   "source": [
    "print(\"수정 전 :\",list6[1])\n",
    "list6[1] = 7\n",
    "print(\"수정 후 :\",list6[1])"
   ]
  },
  {
   "cell_type": "code",
   "execution_count": 3,
   "id": "216a17bb",
   "metadata": {},
   "outputs": [
    {
     "data": {
      "text/plain": [
       "[0, 7, 2, 3, 4]"
      ]
     },
     "execution_count": 3,
     "metadata": {},
     "output_type": "execute_result"
    }
   ],
   "source": [
    "list6"
   ]
  },
  {
   "cell_type": "code",
   "execution_count": 7,
   "id": "b8b9564b",
   "metadata": {},
   "outputs": [
    {
     "ename": "TypeError",
     "evalue": "can only assign an iterable",
     "output_type": "error",
     "traceback": [
      "\u001b[1;31m---------------------------------------------------------------------------\u001b[0m",
      "\u001b[1;31mTypeError\u001b[0m                                 Traceback (most recent call last)",
      "\u001b[1;32m<ipython-input-7-913ecdac98a2>\u001b[0m in \u001b[0;36m<module>\u001b[1;34m\u001b[0m\n\u001b[1;32m----> 1\u001b[1;33m \u001b[0mlist6\u001b[0m\u001b[1;33m[\u001b[0m\u001b[1;36m2\u001b[0m\u001b[1;33m:\u001b[0m\u001b[1;36m4\u001b[0m\u001b[1;33m]\u001b[0m \u001b[1;33m=\u001b[0m \u001b[1;36m7\u001b[0m\u001b[1;33m\u001b[0m\u001b[1;33m\u001b[0m\u001b[0m\n\u001b[0m",
      "\u001b[1;31mTypeError\u001b[0m: can only assign an iterable"
     ]
    }
   ],
   "source": [
    "list6[2:4] = 7"
   ]
  },
  {
   "cell_type": "code",
   "execution_count": 8,
   "id": "1ce06e78",
   "metadata": {},
   "outputs": [
    {
     "name": "stdout",
     "output_type": "stream",
     "text": [
      "[1, 2, 3, 4, 7]\n"
     ]
    }
   ],
   "source": [
    "array=[1,2,3,4,5]\n",
    "array[4] = 7\n",
    "print(array)"
   ]
  },
  {
   "cell_type": "code",
   "execution_count": 9,
   "id": "e23f4273",
   "metadata": {},
   "outputs": [
    {
     "name": "stdout",
     "output_type": "stream",
     "text": [
      "[1, ['a', 'b', 'c'], 3, 4, 7]\n"
     ]
    }
   ],
   "source": [
    "array[1] = ['a','b','c']\n",
    "print(array)"
   ]
  },
  {
   "cell_type": "code",
   "execution_count": 10,
   "id": "7ec38898",
   "metadata": {},
   "outputs": [
    {
     "data": {
      "text/plain": [
       "[1, ['a', 'b', 'c'], 3, 'd', 'e', 'f', 'g']"
      ]
     },
     "execution_count": 10,
     "metadata": {},
     "output_type": "execute_result"
    }
   ],
   "source": [
    "array[-2:] = ['d','e','f','g']\n",
    "array"
   ]
  },
  {
   "cell_type": "code",
   "execution_count": 11,
   "id": "0141e23f",
   "metadata": {},
   "outputs": [
    {
     "data": {
      "text/plain": [
       "['h', 'i', 'j', ['a', 'b', 'c'], 3, 'd', 'e', 'f', 'g']"
      ]
     },
     "execution_count": 11,
     "metadata": {},
     "output_type": "execute_result"
    }
   ],
   "source": [
    "array[0:1] = ['h','i','j']\n",
    "array"
   ]
  },
  {
   "cell_type": "code",
   "execution_count": null,
   "id": "a9700ca1",
   "metadata": {},
   "outputs": [],
   "source": []
  },
  {
   "cell_type": "code",
   "execution_count": null,
   "id": "a5ef9b3e",
   "metadata": {},
   "outputs": [],
   "source": []
  },
  {
   "cell_type": "code",
   "execution_count": null,
   "id": "7d347f12",
   "metadata": {},
   "outputs": [],
   "source": []
  }
 ],
 "metadata": {
  "kernelspec": {
   "display_name": "Python 3",
   "language": "python",
   "name": "python3"
  },
  "language_info": {
   "codemirror_mode": {
    "name": "ipython",
    "version": 3
   },
   "file_extension": ".py",
   "mimetype": "text/x-python",
   "name": "python",
   "nbconvert_exporter": "python",
   "pygments_lexer": "ipython3",
   "version": "3.8.8"
  }
 },
 "nbformat": 4,
 "nbformat_minor": 5
}
