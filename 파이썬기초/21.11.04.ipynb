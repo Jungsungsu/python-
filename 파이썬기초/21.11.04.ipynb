{
 "cells": [
  {
   "cell_type": "code",
   "execution_count": null,
   "id": "3c5d0107",
   "metadata": {
    "scrolled": true
   },
   "outputs": [],
   "source": [
    "score_list = [90,45,70,60,55]\n",
    "num = 0\n",
    "\n",
    "for score in score_list:\n",
    "    num += 1\n",
    "    if score >= 60:\n",
    "        print(f\"{num}번 학생은 합격입니다.\")\n",
    "    else:\n",
    "        print(f\"{num}번 학생은 불합격입니다.\")"
   ]
  },
  {
   "cell_type": "code",
   "execution_count": null,
   "id": "d44e2c0a",
   "metadata": {},
   "outputs": [],
   "source": [
    "python_score = [57,86,63,92,35,79]\n",
    "num = 0\n",
    "\n",
    "for python in python_score:\n",
    "    num+=1\n",
    "    if python>=80:\n",
    "        print(f\"{num}번은 {python}점 이며, A등급입니다.\")\n",
    "    elif python>=60 and python<80:\n",
    "        print(f\"{num}번은 {python}점 이며, B등급입니다.\")\n",
    "    else:\n",
    "        print(f\"{num}번은 {python}점 이며, C등급입니다.\")"
   ]
  },
  {
   "cell_type": "markdown",
   "id": "91fed67b",
   "metadata": {},
   "source": [
    "range() 함수\n",
    "-필요한 만큼의 숫자를 만들어내는 유용한 기능\n",
    "-range(1,10,1) -> 1부터 9까지 1씩 증가\n",
    "-range(1,100,3) -> 1부터 99까지 3씩 증가\n",
    "-range(10,1,-1) -> 10부터 2까지 1씩 감소(-1씩 증가)"
   ]
  },
  {
   "cell_type": "code",
   "execution_count": null,
   "id": "d0513776",
   "metadata": {},
   "outputs": [],
   "source": [
    "for i in range(1,10,1):\n",
    "    print(i)"
   ]
  },
  {
   "cell_type": "code",
   "execution_count": null,
   "id": "926ab9b0",
   "metadata": {},
   "outputs": [],
   "source": [
    "for i in range(100,1,-3):\n",
    "    print(i)"
   ]
  },
  {
   "cell_type": "code",
   "execution_count": null,
   "id": "c665c550",
   "metadata": {},
   "outputs": [],
   "source": [
    "for i in range(1,10,1):\n",
    "    print(i, end=\" \")  #end 숫자와 숫자 사이 문자"
   ]
  },
  {
   "cell_type": "code",
   "execution_count": null,
   "id": "a38931e7",
   "metadata": {},
   "outputs": [],
   "source": [
    "for i in range(1,10,1):\n",
    "    print(i, end=\"\\n\") #\\n은 띄워쓰기"
   ]
  },
  {
   "cell_type": "code",
   "execution_count": null,
   "id": "d65e5124",
   "metadata": {},
   "outputs": [],
   "source": [
    "for i in range(97,76,-1):\n",
    "    print(i, end= \" \")"
   ]
  },
  {
   "cell_type": "code",
   "execution_count": null,
   "id": "bcc5df3b",
   "metadata": {},
   "outputs": [],
   "source": [
    "for i in range(23,40,1):\n",
    "    print(i, end=\" \")"
   ]
  },
  {
   "cell_type": "code",
   "execution_count": null,
   "id": "f1788e73",
   "metadata": {},
   "outputs": [],
   "source": [
    "for i in range(2,101,2):\n",
    "    print(i, end=\" \")"
   ]
  },
  {
   "cell_type": "code",
   "execution_count": null,
   "id": "1b41da8b",
   "metadata": {},
   "outputs": [],
   "source": [
    "for i in range(3,101,3):\n",
    "    print(i, end=\" \")"
   ]
  },
  {
   "cell_type": "code",
   "execution_count": null,
   "id": "fb50ecc4",
   "metadata": {},
   "outputs": [],
   "source": [
    "list1 = [[1,2],[3,4],[5,6]]\n",
    "for i,j in list1:\n",
    "    print(i,j)"
   ]
  },
  {
   "cell_type": "code",
   "execution_count": null,
   "id": "890c9eac",
   "metadata": {},
   "outputs": [],
   "source": [
    "a,b = 1,7\n",
    "print(a)\n",
    "print(b)"
   ]
  },
  {
   "cell_type": "code",
   "execution_count": null,
   "id": "d875db30",
   "metadata": {},
   "outputs": [],
   "source": [
    "list2 = [4,5,2,1,99,15,2,7,27]\n",
    "max_num = list2[0]\n",
    "\n",
    "for i in list2:\n",
    "    if i > max_num:\n",
    "        max_num = i\n",
    "print(max_num)"
   ]
  },
  {
   "cell_type": "code",
   "execution_count": null,
   "id": "448e9ef8",
   "metadata": {},
   "outputs": [],
   "source": [
    "list2 = [4,5,2,1,99,15,2,7,27]\n",
    "min_num = list2[0]\n",
    "\n",
    "for i in list2:\n",
    "    if i < min_num:\n",
    "        min_num = i\n",
    "print(min_num)"
   ]
  },
  {
   "cell_type": "code",
   "execution_count": null,
   "id": "d9486745",
   "metadata": {},
   "outputs": [],
   "source": [
    "num = 2\n",
    "for i in range(1,10,1):\n",
    "    print(f\"{num} * {i} = {num*i}\")"
   ]
  },
  {
   "cell_type": "code",
   "execution_count": null,
   "id": "52fcf798",
   "metadata": {},
   "outputs": [],
   "source": [
    "#1부터 100사이의 숫자 중 3의 배수인 값들의 합 구하기\n",
    "sum_num = 0\n",
    "for i in range(3,101,3):\n",
    "    sum_num += i\n",
    "print(sum_num)"
   ]
  },
  {
   "cell_type": "code",
   "execution_count": null,
   "id": "d3b396de",
   "metadata": {},
   "outputs": [],
   "source": [
    "num = int(input(\"단수를 입력하세요 >> \"))\n",
    "for i in range(1,10,1):\n",
    "    if num<10:\n",
    "        print(f\"{num} * {i} = {num*i}\")"
   ]
  },
  {
   "cell_type": "code",
   "execution_count": 2,
   "id": "f40f8370",
   "metadata": {},
   "outputs": [
    {
     "name": "stdout",
     "output_type": "stream",
     "text": [
      "*****\n",
      "****\n",
      "***\n",
      "**\n",
      "*\n"
     ]
    }
   ],
   "source": [
    "star = \"*\"\n",
    "for i in range(5,0,-1):\n",
    "    print(i*star)"
   ]
  },
  {
   "cell_type": "code",
   "execution_count": 3,
   "id": "ca95f544",
   "metadata": {},
   "outputs": [
    {
     "name": "stdout",
     "output_type": "stream",
     "text": [
      "정수 입력 >> 20\n",
      "20의 약수: 1 2 4 5 10 20 "
     ]
    }
   ],
   "source": [
    "#입력받은 숫자의 약수를 구하기\n",
    "num = int(input(\"정수 입력 >> \"))\n",
    "\n",
    "print(f\"{num}의 약수:\", end=\" \")\n",
    "\n",
    "for i in range(1, num+1, 1):\n",
    "    if num%i == 0:\n",
    "        print(i, end=\" \")"
   ]
  },
  {
   "cell_type": "code",
   "execution_count": 4,
   "id": "fc447125",
   "metadata": {},
   "outputs": [
    {
     "name": "stdout",
     "output_type": "stream",
     "text": [
      "*\n",
      "**\n",
      "***\n",
      "****\n",
      "*****\n",
      "******\n"
     ]
    }
   ],
   "source": [
    "star = \"*\"\n",
    "for i in range(1,7,1):\n",
    "    print(i*star)"
   ]
  },
  {
   "cell_type": "code",
   "execution_count": 5,
   "id": "a8d5726c",
   "metadata": {},
   "outputs": [
    {
     "name": "stdout",
     "output_type": "stream",
     "text": [
      "*\n",
      "**\n",
      "***\n",
      "****\n",
      "*****\n",
      "******\n"
     ]
    }
   ],
   "source": [
    "for i in range(1,7,1):\n",
    "    print(i*\"*\")"
   ]
  },
  {
   "cell_type": "code",
   "execution_count": 6,
   "id": "7b063447",
   "metadata": {},
   "outputs": [
    {
     "name": "stdout",
     "output_type": "stream",
     "text": [
      "******\n",
      "*****\n",
      "****\n",
      "***\n",
      "**\n",
      "*\n"
     ]
    }
   ],
   "source": [
    "for i in range(6,0,-1):\n",
    "    print(i*\"*\")"
   ]
  },
  {
   "cell_type": "code",
   "execution_count": 8,
   "id": "13a9dfc6",
   "metadata": {},
   "outputs": [
    {
     "name": "stdout",
     "output_type": "stream",
     "text": [
      "줄 수 입력 >> 5\n",
      "*\n",
      "**\n",
      "***\n",
      "****\n",
      "*****\n"
     ]
    }
   ],
   "source": [
    "star = int(input(\"줄 수 입력 >> \"))\n",
    "for i in range(1,star+1):\n",
    "    print(i*\"*\")"
   ]
  },
  {
   "cell_type": "code",
   "execution_count": 10,
   "id": "193f037a",
   "metadata": {},
   "outputs": [
    {
     "name": "stdout",
     "output_type": "stream",
     "text": [
      "*\n",
      "**\n",
      "***\n",
      "****\n",
      "*****\n",
      "******\n",
      "*****\n",
      "****\n",
      "***\n",
      "**\n",
      "*\n"
     ]
    }
   ],
   "source": [
    "for i in range(1,7,1):\n",
    "    print(i*\"*\")\n",
    "for j in range(5,0,-1):\n",
    "    print(j*\"*\")   "
   ]
  },
  {
   "cell_type": "code",
   "execution_count": 11,
   "id": "bb530b52",
   "metadata": {},
   "outputs": [
    {
     "name": "stdout",
     "output_type": "stream",
     "text": [
      "첫 번째 정수 입력 >> 1\n",
      "두 번째 정수 입력 >> 10\n",
      "1 2 3 4 5 6 7 8 9 10 "
     ]
    }
   ],
   "source": [
    "start = int(input(\"첫 번째 정수 입력 >> \"))\n",
    "end = int(input(\"두 번째 정수 입력 >> \"))\n",
    "\n",
    "for i in range(start,end+1,1):\n",
    "    print(i, end=\" \")"
   ]
  },
  {
   "cell_type": "code",
   "execution_count": 12,
   "id": "85b830c7",
   "metadata": {},
   "outputs": [
    {
     "name": "stdout",
     "output_type": "stream",
     "text": [
      "첫 번째 정수 입력 >> 10\n",
      "두 번째 정수 입력 >> 20\n",
      "배수 입력 >> 5\n",
      "5의 배수의 합 : 45\n"
     ]
    }
   ],
   "source": [
    "num1 = int(input(\"첫 번째 정수 입력 >> \"))\n",
    "num2 = int(input(\"두 번째 정수 입력 >> \"))\n",
    "num3 = int(input(\"배수 입력 >> \"))\n",
    "\n",
    "sum_num =0\n",
    "\n",
    "for i in range(num1,num2+1,1):\n",
    "    if i%num3 == 0:\n",
    "        sum_num += i\n",
    "print(f\"{num3}의 배수의 합 :\", sum_num)"
   ]
  },
  {
   "cell_type": "code",
   "execution_count": 19,
   "id": "1a36179f",
   "metadata": {},
   "outputs": [
    {
     "name": "stdout",
     "output_type": "stream",
     "text": [
      "이름을 입력 : 정성수\n",
      "주민번호 입력(7자리) : 9512151\n",
      "정성수님은 95년 12월 15일에 태어났고, 성별은 남자입니다.\n"
     ]
    }
   ],
   "source": [
    "name = input(\"이름을 입력 : \")\n",
    "id_num = input(\"주민번호 입력(7자리) : \")\n",
    "\n",
    "year = id_num[0:2]  #년도\n",
    "month = id_num[2:4] #월\n",
    "day = id_num[4:6]  #일\n",
    "gender = id_num[6]  #성별\n",
    "\n",
    "if gender == \"1\" or gender == \"3\" :\n",
    "    sex = \"남자\"\n",
    "else:\n",
    "    sex = \"여자\"\n",
    "\n",
    "print(f\"{name}님은 {year}년 {month}월 {day}일에 태어났고, 성별은 {sex}입니다.\")"
   ]
  },
  {
   "cell_type": "code",
   "execution_count": 20,
   "id": "90a78ca6",
   "metadata": {},
   "outputs": [
    {
     "name": "stdout",
     "output_type": "stream",
     "text": [
      "Life is too short, You need python."
     ]
    }
   ],
   "source": [
    "s = \".nohtyp deen uoY ,trohs oot si efiL\"\n",
    "\n",
    "for i in range(len(s)-1, -1,-1):\n",
    "    print(s[i], end=\"\")"
   ]
  },
  {
   "cell_type": "code",
   "execution_count": 23,
   "id": "96e309dc",
   "metadata": {},
   "outputs": [
    {
     "name": "stdout",
     "output_type": "stream",
     "text": [
      "2*1=2\t2*2=4\t2*3=6\t2*4=8\t2*5=10\t2*6=12\t2*7=14\t2*8=16\t2*9=18\t\n",
      "3*1=3\t3*2=6\t3*3=9\t3*4=12\t3*5=15\t3*6=18\t3*7=21\t3*8=24\t3*9=27\t\n",
      "4*1=4\t4*2=8\t4*3=12\t4*4=16\t4*5=20\t4*6=24\t4*7=28\t4*8=32\t4*9=36\t\n",
      "5*1=5\t5*2=10\t5*3=15\t5*4=20\t5*5=25\t5*6=30\t5*7=35\t5*8=40\t5*9=45\t\n",
      "6*1=6\t6*2=12\t6*3=18\t6*4=24\t6*5=30\t6*6=36\t6*7=42\t6*8=48\t6*9=54\t\n",
      "7*1=7\t7*2=14\t7*3=21\t7*4=28\t7*5=35\t7*6=42\t7*7=49\t7*8=56\t7*9=63\t\n",
      "8*1=8\t8*2=16\t8*3=24\t8*4=32\t8*5=40\t8*6=48\t8*7=56\t8*8=64\t8*9=72\t\n",
      "9*1=9\t9*2=18\t9*3=27\t9*4=36\t9*5=45\t9*6=54\t9*7=63\t9*8=72\t9*9=81\t\n"
     ]
    }
   ],
   "source": [
    "for i in range(2, 10):\n",
    "        for j in range(1, 10):\n",
    "            print(f'{i}*{j}={i * j}', end='\\t')\n",
    "        print()               "
   ]
  },
  {
   "cell_type": "code",
   "execution_count": 22,
   "id": "73bc56b7",
   "metadata": {},
   "outputs": [
    {
     "name": "stdout",
     "output_type": "stream",
     "text": [
      "2*1=2\t3*1=3\t4*1=4\t5*1=5\t6*1=6\t7*1=7\t8*1=8\t9*1=9\t\n",
      "2*2=4\t3*2=6\t4*2=8\t5*2=10\t6*2=12\t7*2=14\t8*2=16\t9*2=18\t\n",
      "2*3=6\t3*3=9\t4*3=12\t5*3=15\t6*3=18\t7*3=21\t8*3=24\t9*3=27\t\n",
      "2*4=8\t3*4=12\t4*4=16\t5*4=20\t6*4=24\t7*4=28\t8*4=32\t9*4=36\t\n",
      "2*5=10\t3*5=15\t4*5=20\t5*5=25\t6*5=30\t7*5=35\t8*5=40\t9*5=45\t\n",
      "2*6=12\t3*6=18\t4*6=24\t5*6=30\t6*6=36\t7*6=42\t8*6=48\t9*6=54\t\n",
      "2*7=14\t3*7=21\t4*7=28\t5*7=35\t6*7=42\t7*7=49\t8*7=56\t9*7=63\t\n",
      "2*8=16\t3*8=24\t4*8=32\t5*8=40\t6*8=48\t7*8=56\t8*8=64\t9*8=72\t\n",
      "2*9=18\t3*9=27\t4*9=36\t5*9=45\t6*9=54\t7*9=63\t8*9=72\t9*9=81\t\n"
     ]
    }
   ],
   "source": [
    "for i in range(1, 10):  \n",
    "    for j in range(2, 10):\n",
    "        print(f\"{j}*{i}={j * i}\", end= \"\\t\") \n",
    "    print()"
   ]
  },
  {
   "cell_type": "code",
   "execution_count": 27,
   "id": "368684ce",
   "metadata": {},
   "outputs": [
    {
     "name": "stdout",
     "output_type": "stream",
     "text": [
      "짝수 3개, 홀수 8개\n",
      "짝수 3개, 홀수 8개\n"
     ]
    }
   ],
   "source": [
    "list1=[1,30,7,9,17,3,5,23,44,32,35]\n",
    "\n",
    "result = 0\n",
    "result1 = 0\n",
    "for i in list1:\n",
    "    if i % 2 == 0:\n",
    "        result1 += 1\n",
    "    else:\n",
    "        result += 1\n",
    "\n",
    "print(\"짝수 {1}개, 홀수 {0}개\".format(result,result1))\n",
    "print(f\"짝수 {result1}개, 홀수 {result}개\")"
   ]
  },
  {
   "cell_type": "code",
   "execution_count": 28,
   "id": "3b1df082",
   "metadata": {},
   "outputs": [
    {
     "name": "stdout",
     "output_type": "stream",
     "text": [
      "==================================================\n",
      "이름\t 파이썬\t 자바\t DB\t 평균\t 학점\n",
      "==================================================\n",
      "박매일 \t 89 \t 78 \t 99 \t 88 \t B\n",
      "김미희 \t 67 \t 88 \t 77 \t 77 \t C\n",
      "강예진 \t 100 \t 55 \t 96 \t 83 \t B\n",
      "==================================================\n",
      "평균  \t 85\t 73\t 90\n"
     ]
    }
   ],
   "source": [
    "score_list = [[\"박매일\",89,78,99], [\"김미희\",67,88,77], [\"강예진\",100,55,96]]\n",
    "\n",
    "print(\"=\"*50)\n",
    "print(\"이름\\t\", \"파이썬\\t\", \"자바\\t\", \"DB\\t\", \"평균\\t\", \"학점\")\n",
    "print(\"=\"*50)\n",
    "\n",
    "sum1 = 0\n",
    "sum2 = 0\n",
    "sum3 = 0\n",
    "a = len(score_list)\n",
    "\n",
    "for i in score_list :\n",
    "    avg1 = (i[1]+i[2]+i[3])//a\n",
    "    sum1 += i[1]\n",
    "    sum2 += i[2]\n",
    "    sum3 += i[3]\n",
    "    \n",
    "    if avg1 >= 90 :\n",
    "        b = \"A\"\n",
    "    elif avg1 >= 80 :\n",
    "        b = \"B\"\n",
    "    elif avg1 >= 70 :\n",
    "        b = \"C\"\n",
    "    elif avg1 >= 60 :\n",
    "        b = \"D\"\n",
    "    else :\n",
    "        b = \"F\"      \n",
    "    print(f\"{i[0]} \\t {i[1]} \\t {i[2]} \\t {i[3]} \\t {avg1} \\t {b}\")\n",
    "print(\"=\"*50)\n",
    "print(f\"평균  \\t {sum1//a}\\t {sum2//a}\\t {sum3//a}\")\n"
   ]
  },
  {
   "cell_type": "code",
   "execution_count": 29,
   "id": "ba85e116",
   "metadata": {},
   "outputs": [
    {
     "name": "stdout",
     "output_type": "stream",
     "text": [
      "==================================================\n",
      "이름\t 파이썬\t 자바\t DB\t 평균\t 학점\t\n",
      "==================================================\n",
      "박매일 \t 89 \t 78 \t 99 \t 88 \t B\n",
      "김미희 \t 67 \t 88 \t 77 \t 77 \t C\n",
      "강예진 \t 100 \t 55 \t 96 \t 83 \t B\n",
      "==================================================\n",
      "평균\t 85 \t 73 \t 90 \t\n"
     ]
    }
   ],
   "source": [
    "# 성적관리 프로그램\n",
    "score_list = [[\"박매일\",89,78,99], [\"김미희\",67,88,77], [\"강예진\",100,55,96]]\n",
    "\n",
    "print(\"=\"*50)\n",
    "print(\"이름\\t\", \"파이썬\\t\", \"자바\\t\", \"DB\\t\", \"평균\\t\", \"학점\\t\")\n",
    "print(\"=\"*50)\n",
    "\n",
    "python, java, db = 0, 0, 0\n",
    "\n",
    "for i in score_list:\n",
    "    # 사람에 대한 평균\n",
    "    avg = (i[1]+i[2]+i[3]) / 3\n",
    "    \n",
    "    avg_P, avg_J, avg_D = 0, 0, 0\n",
    "    \n",
    "    # 학점\n",
    "    if avg >= 90 :\n",
    "        grade = \"A\"\n",
    "    elif avg >= 80 :\n",
    "        grade = \"B\"\n",
    "    elif avg >= 70 :\n",
    "        grade = \"C\"\n",
    "    elif avg >= 60 :\n",
    "        grade = \"D\"\n",
    "    else :\n",
    "        grade = \"F\"  \n",
    "    \n",
    "    #출력 결과의 4 ~ 6번째 줄\n",
    "    print(i[0], \"\\t\", i[1], \"\\t\", i[2], \"\\t\", i[3], \"\\t\", int(avg), \"\\t\", grade)\n",
    "    \n",
    "    #과목에 대한 총합\n",
    "    python += i[1]\n",
    "    java += i[2]\n",
    "    db += i[3]\n",
    "    \n",
    "avg_P = python / len(score_list)\n",
    "avg_J = java / len(score_list)\n",
    "avg_D = db / len(score_list)\n",
    "\n",
    "print(\"=\"*50)\n",
    "#출력결과 마지막\n",
    "print(f\"평균\\t\", int(avg_P), \"\\t\", int(avg_J), \"\\t\", int(avg_D), \"\\t\")"
   ]
  },
  {
   "cell_type": "code",
   "execution_count": null,
   "id": "996fbb3e",
   "metadata": {},
   "outputs": [],
   "source": []
  },
  {
   "cell_type": "code",
   "execution_count": null,
   "id": "4c4bdc50",
   "metadata": {},
   "outputs": [],
   "source": []
  },
  {
   "cell_type": "code",
   "execution_count": null,
   "id": "7b3f857f",
   "metadata": {},
   "outputs": [],
   "source": []
  },
  {
   "cell_type": "code",
   "execution_count": null,
   "id": "3209304f",
   "metadata": {},
   "outputs": [],
   "source": []
  },
  {
   "cell_type": "code",
   "execution_count": null,
   "id": "bb5b03c3",
   "metadata": {},
   "outputs": [],
   "source": []
  },
  {
   "cell_type": "code",
   "execution_count": null,
   "id": "d7c70428",
   "metadata": {},
   "outputs": [],
   "source": []
  },
  {
   "cell_type": "code",
   "execution_count": null,
   "id": "c88f81c9",
   "metadata": {},
   "outputs": [],
   "source": []
  },
  {
   "cell_type": "code",
   "execution_count": null,
   "id": "3af62bcd",
   "metadata": {},
   "outputs": [],
   "source": []
  },
  {
   "cell_type": "code",
   "execution_count": null,
   "id": "63371a5f",
   "metadata": {},
   "outputs": [],
   "source": []
  },
  {
   "cell_type": "code",
   "execution_count": null,
   "id": "51f44c88",
   "metadata": {},
   "outputs": [],
   "source": []
  },
  {
   "cell_type": "code",
   "execution_count": null,
   "id": "4c0aeb82",
   "metadata": {},
   "outputs": [],
   "source": []
  },
  {
   "cell_type": "code",
   "execution_count": null,
   "id": "454720ae",
   "metadata": {},
   "outputs": [],
   "source": []
  },
  {
   "cell_type": "code",
   "execution_count": null,
   "id": "55eefb47",
   "metadata": {},
   "outputs": [],
   "source": []
  },
  {
   "cell_type": "code",
   "execution_count": null,
   "id": "00e97932",
   "metadata": {},
   "outputs": [],
   "source": []
  },
  {
   "cell_type": "code",
   "execution_count": null,
   "id": "0ccfd529",
   "metadata": {},
   "outputs": [],
   "source": []
  },
  {
   "cell_type": "code",
   "execution_count": null,
   "id": "4dc6efe0",
   "metadata": {},
   "outputs": [],
   "source": []
  },
  {
   "cell_type": "code",
   "execution_count": null,
   "id": "f7c7f68c",
   "metadata": {},
   "outputs": [],
   "source": []
  },
  {
   "cell_type": "code",
   "execution_count": null,
   "id": "bc1497ed",
   "metadata": {},
   "outputs": [],
   "source": []
  },
  {
   "cell_type": "code",
   "execution_count": null,
   "id": "1c662218",
   "metadata": {},
   "outputs": [],
   "source": []
  },
  {
   "cell_type": "code",
   "execution_count": null,
   "id": "8056ad1c",
   "metadata": {},
   "outputs": [],
   "source": []
  },
  {
   "cell_type": "code",
   "execution_count": null,
   "id": "c0d17869",
   "metadata": {},
   "outputs": [],
   "source": []
  },
  {
   "cell_type": "code",
   "execution_count": null,
   "id": "e0040d33",
   "metadata": {},
   "outputs": [],
   "source": []
  },
  {
   "cell_type": "code",
   "execution_count": null,
   "id": "6d1da3b5",
   "metadata": {},
   "outputs": [],
   "source": []
  }
 ],
 "metadata": {
  "kernelspec": {
   "display_name": "Python 3",
   "language": "python",
   "name": "python3"
  },
  "language_info": {
   "codemirror_mode": {
    "name": "ipython",
    "version": 3
   },
   "file_extension": ".py",
   "mimetype": "text/x-python",
   "name": "python",
   "nbconvert_exporter": "python",
   "pygments_lexer": "ipython3",
   "version": "3.8.8"
  }
 },
 "nbformat": 4,
 "nbformat_minor": 5
}
