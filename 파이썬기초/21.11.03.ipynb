{
 "cells": [
  {
   "cell_type": "code",
   "execution_count": 1,
   "id": "d02bcc25",
   "metadata": {},
   "outputs": [
    {
     "data": {
      "text/plain": [
       "[0, 2, 3, 4, 5]"
      ]
     },
     "execution_count": 1,
     "metadata": {},
     "output_type": "execute_result"
    }
   ],
   "source": [
    "list7 = [0,1,2,3,4,5]\n",
    "del list7[1]\n",
    "list7"
   ]
  },
  {
   "cell_type": "code",
   "execution_count": 2,
   "id": "ace1c677",
   "metadata": {},
   "outputs": [
    {
     "data": {
      "text/plain": [
       "[0, 5]"
      ]
     },
     "execution_count": 2,
     "metadata": {},
     "output_type": "execute_result"
    }
   ],
   "source": [
    "list7 = [0,1,2,3,4,5]\n",
    "del list7[1:5]\n",
    "list7"
   ]
  },
  {
   "cell_type": "code",
   "execution_count": 3,
   "id": "4f7afeaf",
   "metadata": {},
   "outputs": [
    {
     "data": {
      "text/plain": [
       "['a', 'c', 'd', 'e']"
      ]
     },
     "execution_count": 3,
     "metadata": {},
     "output_type": "execute_result"
    }
   ],
   "source": [
    "list7 = ['a','b','c','d','e']\n",
    "list7.remove('b')\n",
    "list7"
   ]
  },
  {
   "cell_type": "code",
   "execution_count": 40,
   "id": "0d5f0c4c",
   "metadata": {},
   "outputs": [
    {
     "data": {
      "text/plain": [
       "[9, 77, 13, 51, 100, 3]"
      ]
     },
     "execution_count": 40,
     "metadata": {},
     "output_type": "execute_result"
    }
   ],
   "source": [
    "list8 = [9,77,13,51,100,3]\n",
    "list8"
   ]
  },
  {
   "cell_type": "code",
   "execution_count": 41,
   "id": "d48e37ef",
   "metadata": {},
   "outputs": [
    {
     "data": {
      "text/plain": [
       "[3, 9, 13, 51, 77, 100]"
      ]
     },
     "execution_count": 41,
     "metadata": {},
     "output_type": "execute_result"
    }
   ],
   "source": [
    "#오름차순 정렬\n",
    "list8.sort()\n",
    "list8"
   ]
  },
  {
   "cell_type": "code",
   "execution_count": 42,
   "id": "6d3a4910",
   "metadata": {},
   "outputs": [
    {
     "data": {
      "text/plain": [
       "[100, 77, 51, 13, 9, 3]"
      ]
     },
     "execution_count": 42,
     "metadata": {},
     "output_type": "execute_result"
    }
   ],
   "source": [
    "#역순 정렬\n",
    "list8.reverse()\n",
    "list8"
   ]
  },
  {
   "cell_type": "code",
   "execution_count": 7,
   "id": "02a1d1b3",
   "metadata": {},
   "outputs": [
    {
     "data": {
      "text/plain": [
       "[9, 77, 13, 51, 100, 3]"
      ]
     },
     "execution_count": 7,
     "metadata": {},
     "output_type": "execute_result"
    }
   ],
   "source": [
    "list9 = [9,77,13,51,100,3]\n",
    "list9"
   ]
  },
  {
   "cell_type": "code",
   "execution_count": 11,
   "id": "8e83f925",
   "metadata": {},
   "outputs": [
    {
     "data": {
      "text/plain": [
       "[3, 100, 51, 13, 77, 9]"
      ]
     },
     "execution_count": 11,
     "metadata": {},
     "output_type": "execute_result"
    }
   ],
   "source": [
    "#역순\n",
    "list9.reverse()\n",
    "list9"
   ]
  },
  {
   "cell_type": "code",
   "execution_count": 12,
   "id": "7fb7efdf",
   "metadata": {},
   "outputs": [
    {
     "data": {
      "text/plain": [
       "[9, 77, 13, 51, 100, 3]"
      ]
     },
     "execution_count": 12,
     "metadata": {},
     "output_type": "execute_result"
    }
   ],
   "source": [
    "list10 = [9,77,13,51,100,3]\n",
    "list10"
   ]
  },
  {
   "cell_type": "code",
   "execution_count": 14,
   "id": "149071bb",
   "metadata": {},
   "outputs": [
    {
     "data": {
      "text/plain": [
       "[3, 9, 13, 51, 77, 100]"
      ]
     },
     "execution_count": 14,
     "metadata": {},
     "output_type": "execute_result"
    }
   ],
   "source": [
    "#오름차순 정렬 1\n",
    "list10.sort()\n",
    "list10"
   ]
  },
  {
   "cell_type": "code",
   "execution_count": 16,
   "id": "d14c559f",
   "metadata": {},
   "outputs": [
    {
     "data": {
      "text/plain": [
       "[3, 9, 13, 51, 77, 100]"
      ]
     },
     "execution_count": 16,
     "metadata": {},
     "output_type": "execute_result"
    }
   ],
   "source": [
    "#역순 2\n",
    "list10.reverse()\n",
    "list10"
   ]
  },
  {
   "cell_type": "code",
   "execution_count": 17,
   "id": "763be187",
   "metadata": {},
   "outputs": [
    {
     "data": {
      "text/plain": [
       "3"
      ]
     },
     "execution_count": 17,
     "metadata": {},
     "output_type": "execute_result"
    }
   ],
   "source": [
    "#배열 내의 갯수\n",
    "list13 = [0,1,2]\n",
    "len(list13)"
   ]
  },
  {
   "cell_type": "code",
   "execution_count": 18,
   "id": "0ce6dd81",
   "metadata": {},
   "outputs": [
    {
     "data": {
      "text/plain": [
       "6"
      ]
     },
     "execution_count": 18,
     "metadata": {},
     "output_type": "execute_result"
    }
   ],
   "source": [
    "list14 = ['a','b','c','d','e','f']\n",
    "len(list14)"
   ]
  },
  {
   "cell_type": "markdown",
   "id": "257f7181",
   "metadata": {},
   "source": [
    "튜플명 = (요소1,요소2,요소3,...)"
   ]
  },
  {
   "cell_type": "markdown",
   "id": "5c766599",
   "metadata": {},
   "source": [
    "공통점\n",
    "-타입과 상관 없이 일련의 요소들을 가질 수 있다.\n",
    "-요소의 순서를 관리한다.\n",
    "차이점\n",
    "-리스트는 가변적이며, 튜플은 불변적\n",
    "-리스트는 요소가 몇 개 들어갈지 명확하지 않고 유동적일 경우에 사용"
   ]
  },
  {
   "cell_type": "markdown",
   "id": "af6678b2",
   "metadata": {},
   "source": [
    "in : 찾고자 하는 값이 포함되어 있으면 true\n",
    "not in : 찾고자 하는 값이 포함되어 있지 않으면 true"
   ]
  },
  {
   "cell_type": "code",
   "execution_count": 19,
   "id": "0602f45c",
   "metadata": {},
   "outputs": [],
   "source": [
    "str1 = \"파이썬 최고\""
   ]
  },
  {
   "cell_type": "code",
   "execution_count": 20,
   "id": "c96fa528",
   "metadata": {},
   "outputs": [
    {
     "data": {
      "text/plain": [
       "True"
      ]
     },
     "execution_count": 20,
     "metadata": {},
     "output_type": "execute_result"
    }
   ],
   "source": [
    "\"파이썬\" in str1"
   ]
  },
  {
   "cell_type": "code",
   "execution_count": 21,
   "id": "9397b3da",
   "metadata": {},
   "outputs": [
    {
     "data": {
      "text/plain": [
       "False"
      ]
     },
     "execution_count": 21,
     "metadata": {},
     "output_type": "execute_result"
    }
   ],
   "source": [
    "\"파이썬\" not in str1"
   ]
  },
  {
   "cell_type": "code",
   "execution_count": 22,
   "id": "da2c5440",
   "metadata": {},
   "outputs": [],
   "source": [
    "list1 = [77,38,10]"
   ]
  },
  {
   "cell_type": "code",
   "execution_count": 23,
   "id": "81b677aa",
   "metadata": {},
   "outputs": [
    {
     "data": {
      "text/plain": [
       "False"
      ]
     },
     "execution_count": 23,
     "metadata": {},
     "output_type": "execute_result"
    }
   ],
   "source": [
    "33 in list1"
   ]
  },
  {
   "cell_type": "code",
   "execution_count": 24,
   "id": "a838fbe3",
   "metadata": {},
   "outputs": [
    {
     "data": {
      "text/plain": [
       "True"
      ]
     },
     "execution_count": 24,
     "metadata": {},
     "output_type": "execute_result"
    }
   ],
   "source": [
    "33 not in list1"
   ]
  },
  {
   "cell_type": "code",
   "execution_count": 25,
   "id": "9c38beb4",
   "metadata": {},
   "outputs": [],
   "source": [
    "s=\"Hi, My name is Sungsu\""
   ]
  },
  {
   "cell_type": "code",
   "execution_count": 26,
   "id": "c3d40377",
   "metadata": {},
   "outputs": [
    {
     "name": "stdout",
     "output_type": "stream",
     "text": [
      "검색할 문자를 입력하세요 : s\n",
      "s는 2번 들어있네유!\n"
     ]
    }
   ],
   "source": [
    "a = input(\"검색할 문자를 입력하세요 : \")\n",
    "b = s.count(a) #입력받은 문자열을 a라는 변수에 담아주고 그 개수를 세어주는 명령어\n",
    "if b == 0:\n",
    "    print(f\"{a}는 들어있지 않네유...\")\n",
    "else:\n",
    "    print(f\"{a}는 {b}번 들어있네유!\")"
   ]
  },
  {
   "cell_type": "markdown",
   "id": "e41b4f75",
   "metadata": {},
   "source": [
    "<반복문>\n",
    "while : 반복 횟수가 명확하지 않을 때\n",
    "for : 반복 횟수가 명확할 때"
   ]
  },
  {
   "cell_type": "markdown",
   "id": "a009b62c",
   "metadata": {},
   "source": [
    "while 조건문:\n",
    "    실행문장\n",
    "    실행문장"
   ]
  },
  {
   "cell_type": "code",
   "execution_count": 28,
   "id": "cb9e5f36",
   "metadata": {},
   "outputs": [
    {
     "name": "stdout",
     "output_type": "stream",
     "text": [
      "1\n",
      "2\n",
      "3\n"
     ]
    }
   ],
   "source": [
    "number = 1\n",
    "while number <=3:\n",
    "    print(number)\n",
    "    number+=1"
   ]
  },
  {
   "cell_type": "code",
   "execution_count": 29,
   "id": "4ba2ec5c",
   "metadata": {},
   "outputs": [
    {
     "name": "stdout",
     "output_type": "stream",
     "text": [
      "파이썬 최고!!\n",
      "파이썬 최고!!\n",
      "파이썬 최고!!\n",
      "파이썬 최고!!\n",
      "파이썬 최고!!\n",
      "파이썬 최고!!\n",
      "파이썬 최고!!\n",
      "파이썬 최고!!\n",
      "파이썬 최고!!\n",
      "파이썬 최고!!\n"
     ]
    }
   ],
   "source": [
    "number = 1\n",
    "while number<=10:\n",
    "    print(\"파이썬 최고!!\")\n",
    "    number+=1"
   ]
  },
  {
   "cell_type": "code",
   "execution_count": 30,
   "id": "2a0928c9",
   "metadata": {},
   "outputs": [
    {
     "name": "stdout",
     "output_type": "stream",
     "text": [
      "무한루프\n"
     ]
    }
   ],
   "source": [
    "while True:\n",
    "    print(\"무한루프\")\n",
    "    break"
   ]
  },
  {
   "cell_type": "code",
   "execution_count": 31,
   "id": "34ad327c",
   "metadata": {},
   "outputs": [
    {
     "name": "stdout",
     "output_type": "stream",
     "text": [
      "1\n",
      "2\n",
      "3\n"
     ]
    }
   ],
   "source": [
    "number = 1\n",
    "while True:\n",
    "    print(number)\n",
    "    number += 1\n",
    "    if number > 3:\n",
    "        break"
   ]
  },
  {
   "cell_type": "code",
   "execution_count": 33,
   "id": "282b843f",
   "metadata": {},
   "outputs": [
    {
     "name": "stdout",
     "output_type": "stream",
     "text": [
      "이름 입력 >> 김태현\n",
      "김태현 최고!\n"
     ]
    }
   ],
   "source": [
    "while True:\n",
    "    name = input(\"이름 입력 >> \")\n",
    "    if name == \"박소이\":\n",
    "        print(f\"{name} 최고!\")\n",
    "        break\n",
    "    elif name == \"김태현\":\n",
    "        print(f\"{name} 최고!\")\n",
    "        break\n",
    "    elif name == \"최성우\":\n",
    "        print(f\"{name} 최고!\")\n",
    "        break"
   ]
  },
  {
   "cell_type": "code",
   "execution_count": 34,
   "id": "a4eec0db",
   "metadata": {},
   "outputs": [
    {
     "name": "stdout",
     "output_type": "stream",
     "text": [
      "첫 번째 정수 입력 >> 10\n",
      "두 번째 정수 입력 >> 20\n",
      "두 정수의 합:30\n",
      "첫 번째 정수 입력 >> 0\n",
      "두 번째 정수 입력 >> 0\n",
      "프로그램이 종료되었습니다.\n"
     ]
    }
   ],
   "source": [
    "while True:\n",
    "    num1 = int(input(\"첫 번째 정수 입력 >> \"))\n",
    "    num2 = int(input(\"두 번째 정수 입력 >> \"))\n",
    "    if num1==0 and num2==0:\n",
    "        print(\"프로그램이 종료되었습니다.\")\n",
    "        break\n",
    "        \n",
    "    print(f\"두 정수의 합:{num1+num2}\")   "
   ]
  },
  {
   "cell_type": "code",
   "execution_count": 6,
   "id": "22ef54f2",
   "metadata": {},
   "outputs": [
    {
     "name": "stdout",
     "output_type": "stream",
     "text": [
      "현재 몸무게 :80\n",
      "목표 몸무게 : 70\n",
      "1주차 감량 몸무게 : 2\n",
      "2주차 감량 몸무게 : 2\n",
      "3주차 감량 몸무게 : 2\n",
      "4주차 감량 몸무게 : 2\n",
      "5주차 감량 몸무게 : 2\n",
      "6주차 감량 몸무게 : 2\n",
      "68 kg 달성!1 축하합니다!\n"
     ]
    }
   ],
   "source": [
    "#다이어트 관리 프로그램\n",
    "weight = int(input(\"현재 몸무게 :\"))\n",
    "goal = int(input(\"목표 몸무게 : \"))\n",
    "week = 1\n",
    "\n",
    "while weight >= goal:\n",
    "    week_weight= int(input(f\"{week}주차 감량 몸무게 : \"))\n",
    "    week += 1\n",
    "    weight -= week_weight\n",
    "    \n",
    "print(f\"{weight} kg 달성!1 축하합니다!\")"
   ]
  },
  {
   "cell_type": "code",
   "execution_count": 35,
   "id": "dbb82ef0",
   "metadata": {},
   "outputs": [
    {
     "name": "stdout",
     "output_type": "stream",
     "text": [
      "숫자를 입력하세요 >> 5\n",
      "5보다 큰 수 입니다.\n",
      "숫자를 입력하세요 >> 25\n",
      "25보다 큰 수 입니다.\n",
      "숫자를 입력하세요 >> 40\n",
      "40보다 작은 수 입니다.\n",
      "숫자를 입력하세요 >> 28\n",
      "정답을 맞추셨습니다.\n"
     ]
    }
   ],
   "source": [
    "import random\n",
    "\n",
    "num1 = random.randint(1,50)\n",
    "\n",
    "while True:\n",
    "    num2 = int(input(\"숫자를 입력하세요 >> \"))\n",
    "    if num1<num2:\n",
    "        print(f\"{num2}보다 작은 수 입니다.\")\n",
    "    elif num1>num2:\n",
    "        print(f\"{num2}보다 큰 수 입니다.\")\n",
    "    elif num1 == num2:\n",
    "        print(\"정답을 맞추셨습니다.\")\n",
    "        break "
   ]
  },
  {
   "cell_type": "markdown",
   "id": "da5fc19c",
   "metadata": {},
   "source": [
    "for 변수 in 문자열(or 리스트 or 튜플):\n",
    "    print(변수)"
   ]
  },
  {
   "cell_type": "code",
   "execution_count": 36,
   "id": "9eb48f20",
   "metadata": {},
   "outputs": [
    {
     "name": "stdout",
     "output_type": "stream",
     "text": [
      "햄버거\n",
      "치킨\n",
      "피자\n"
     ]
    }
   ],
   "source": [
    "list_food = [\"햄버거\",\"치킨\",\"피자\"]\n",
    "for food in list_food:\n",
    "    print(food)"
   ]
  },
  {
   "cell_type": "code",
   "execution_count": 38,
   "id": "2a5677a7",
   "metadata": {},
   "outputs": [
    {
     "name": "stdout",
     "output_type": "stream",
     "text": [
      "안\n",
      "녕\n",
      "하\n",
      "세\n",
      "요\n"
     ]
    }
   ],
   "source": [
    "hi = \"안녕하세요\"\n",
    "for s in hi:\n",
    "    print(s)"
   ]
  },
  {
   "cell_type": "code",
   "execution_count": 39,
   "id": "3767635e",
   "metadata": {},
   "outputs": [
    {
     "name": "stdout",
     "output_type": "stream",
     "text": [
      "햄버거\n",
      "치킨\n",
      "피자\n"
     ]
    }
   ],
   "source": [
    "turple_food = (\"햄버거\",\"치킨\",\"피자\")\n",
    "for food in turple_food:\n",
    "    print(food)"
   ]
  },
  {
   "cell_type": "code",
   "execution_count": null,
   "id": "10a93639",
   "metadata": {},
   "outputs": [],
   "source": []
  },
  {
   "cell_type": "code",
   "execution_count": null,
   "id": "d71b4cc5",
   "metadata": {},
   "outputs": [],
   "source": []
  },
  {
   "cell_type": "code",
   "execution_count": null,
   "id": "2b8bca26",
   "metadata": {},
   "outputs": [],
   "source": []
  },
  {
   "cell_type": "code",
   "execution_count": null,
   "id": "7fec3f8f",
   "metadata": {},
   "outputs": [],
   "source": []
  },
  {
   "cell_type": "code",
   "execution_count": null,
   "id": "901b1a63",
   "metadata": {},
   "outputs": [],
   "source": []
  },
  {
   "cell_type": "code",
   "execution_count": null,
   "id": "53f2520d",
   "metadata": {},
   "outputs": [],
   "source": []
  },
  {
   "cell_type": "code",
   "execution_count": null,
   "id": "e1f1ac70",
   "metadata": {},
   "outputs": [],
   "source": []
  },
  {
   "cell_type": "code",
   "execution_count": null,
   "id": "5db3daf5",
   "metadata": {},
   "outputs": [],
   "source": []
  },
  {
   "cell_type": "code",
   "execution_count": null,
   "id": "f5965e58",
   "metadata": {},
   "outputs": [],
   "source": []
  },
  {
   "cell_type": "code",
   "execution_count": null,
   "id": "6071c2ba",
   "metadata": {},
   "outputs": [],
   "source": []
  },
  {
   "cell_type": "code",
   "execution_count": null,
   "id": "59b1b45a",
   "metadata": {},
   "outputs": [],
   "source": []
  },
  {
   "cell_type": "code",
   "execution_count": null,
   "id": "ad15232f",
   "metadata": {},
   "outputs": [],
   "source": []
  },
  {
   "cell_type": "code",
   "execution_count": null,
   "id": "9fa4ccbf",
   "metadata": {},
   "outputs": [],
   "source": []
  },
  {
   "cell_type": "code",
   "execution_count": null,
   "id": "21531a2e",
   "metadata": {},
   "outputs": [],
   "source": []
  },
  {
   "cell_type": "code",
   "execution_count": null,
   "id": "2405b976",
   "metadata": {
    "scrolled": true
   },
   "outputs": [],
   "source": []
  }
 ],
 "metadata": {
  "kernelspec": {
   "display_name": "Python 3",
   "language": "python",
   "name": "python3"
  },
  "language_info": {
   "codemirror_mode": {
    "name": "ipython",
    "version": 3
   },
   "file_extension": ".py",
   "mimetype": "text/x-python",
   "name": "python",
   "nbconvert_exporter": "python",
   "pygments_lexer": "ipython3",
   "version": "3.8.8"
  }
 },
 "nbformat": 4,
 "nbformat_minor": 5
}
