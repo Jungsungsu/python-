{
 "cells": [
  {
   "cell_type": "code",
   "execution_count": 11,
   "id": "1fa5e97e",
   "metadata": {
    "scrolled": true
   },
   "outputs": [
    {
     "name": "stdout",
     "output_type": "stream",
     "text": [
      "she's gone\n",
      "she's gone\n"
     ]
    }
   ],
   "source": [
    "s1 = \"she's gone\"\n",
    "s2 = 'she\\'s gone'\n",
    "print(s1)\n",
    "print(s2)"
   ]
  },
  {
   "cell_type": "code",
   "execution_count": 16,
   "id": "de60c708",
   "metadata": {},
   "outputs": [
    {
     "name": "stdout",
     "output_type": "stream",
     "text": [
      "여러줄로 구성된 \t문자열을 하나로 대입할 때\n"
     ]
    }
   ],
   "source": [
    "s = \"여러줄로 구성된 \\t문자열을 하나로 대입할 때\"\n",
    "print(s)"
   ]
  },
  {
   "cell_type": "code",
   "execution_count": 18,
   "id": "ed36bb17",
   "metadata": {},
   "outputs": [
    {
     "name": "stdout",
     "output_type": "stream",
     "text": [
      "아아아아아아아아아아아아아아아아아아아아아아아아아아\n"
     ]
    }
   ],
   "source": [
    "ss = '''아아아아아아아아아아아아아아아아아아아아아아아아아아'''\n",
    "print(ss)"
   ]
  },
  {
   "cell_type": "code",
   "execution_count": 2,
   "id": "e600e90d",
   "metadata": {},
   "outputs": [
    {
     "name": "stdout",
     "output_type": "stream",
     "text": [
      "M\n",
      "i\n",
      "S\n",
      "S\n"
     ]
    }
   ],
   "source": [
    "# 문자열 인덱싱\n",
    "s = \"My name is SS\"\n",
    "print(s[0])\n",
    "print(s[8])\n",
    "print(s[11])\n",
    "print(s[12])"
   ]
  },
  {
   "cell_type": "code",
   "execution_count": 21,
   "id": "0aec4923",
   "metadata": {},
   "outputs": [
    {
     "name": "stdout",
     "output_type": "stream",
     "text": [
      "S\n",
      "S\n"
     ]
    }
   ],
   "source": [
    "s = \"My name is SS\"\n",
    "print(s[-2])\n",
    "print(s[-1])"
   ]
  },
  {
   "cell_type": "code",
   "execution_count": 4,
   "id": "abd58c3a",
   "metadata": {},
   "outputs": [
    {
     "name": "stdout",
     "output_type": "stream",
     "text": [
      "My\n",
      "name\n",
      "is\n"
     ]
    }
   ],
   "source": [
    "# 문자열 슬라이싱\n",
    "s = \"My name is SS\"\n",
    "print(s[0:2])\n",
    "print(s[3:7])\n",
    "print(s[8:10])"
   ]
  },
  {
   "cell_type": "code",
   "execution_count": 40,
   "id": "395be85b",
   "metadata": {},
   "outputs": [
    {
     "name": "stdout",
     "output_type": "stream",
     "text": [
      "is SS\n",
      "is SS\n",
      "is SS\n"
     ]
    }
   ],
   "source": [
    "s = \"My name is SS\"\n",
    "print(s[8:13])\n",
    "print(s[8:])\n",
    "print(s[-5:])"
   ]
  },
  {
   "cell_type": "code",
   "execution_count": 42,
   "id": "1fb68264",
   "metadata": {},
   "outputs": [
    {
     "name": "stdout",
     "output_type": "stream",
     "text": [
      "My name is SS\n",
      "My name is SS\n"
     ]
    }
   ],
   "source": [
    "s = \"My name is SS\"\n",
    "print(s[:])\n",
    "print(s)"
   ]
  },
  {
   "cell_type": "code",
   "execution_count": 9,
   "id": "3ec2e65c",
   "metadata": {},
   "outputs": [
    {
     "name": "stdout",
     "output_type": "stream",
     "text": [
      "날짜 :  2020년은 3월 3일\n",
      "날씨 :  맑음\n"
     ]
    }
   ],
   "source": [
    "s = \"2020년은 3월 3일의 날씨는 맑음입니다.\"\n",
    "print(\"날짜 : \" , s[0:12])\n",
    "print(\"날씨 : \" , s[18:20])"
   ]
  },
  {
   "cell_type": "code",
   "execution_count": 6,
   "id": "2040d878",
   "metadata": {},
   "outputs": [
    {
     "data": {
      "text/plain": [
       "'오늘은 7월 8.000000일 입니다.'"
      ]
     },
     "execution_count": 6,
     "metadata": {},
     "output_type": "execute_result"
    }
   ],
   "source": [
    "day = 8\n",
    "s = \"오늘은 7월 %f일 입니다.\"%day\n",
    "s"
   ]
  },
  {
   "cell_type": "code",
   "execution_count": 5,
   "id": "91d422af",
   "metadata": {},
   "outputs": [
    {
     "data": {
      "text/plain": [
       "'오늘은 7월 7일 입니다.'"
      ]
     },
     "execution_count": 5,
     "metadata": {},
     "output_type": "execute_result"
    }
   ],
   "source": [
    "day = 7\n",
    "s = \"오늘은 7월 %d일 입니다.\"%day\n",
    "s"
   ]
  },
  {
   "cell_type": "markdown",
   "id": "a1e41a60",
   "metadata": {},
   "source": [
    "문자열 포맷팅 첫번째 방법"
   ]
  },
  {
   "cell_type": "code",
   "execution_count": 14,
   "id": "be7b3a79",
   "metadata": {},
   "outputs": [
    {
     "data": {
      "text/plain": [
       "'오늘은 7월 10일 입니다.'"
      ]
     },
     "execution_count": 14,
     "metadata": {},
     "output_type": "execute_result"
    }
   ],
   "source": [
    "month = 7\n",
    "day = 10\n",
    "s = \"오늘은 %d월 %d일 입니다.\"%(month,day)\n",
    "s"
   ]
  },
  {
   "cell_type": "code",
   "execution_count": 9,
   "id": "59866902",
   "metadata": {},
   "outputs": [
    {
     "data": {
      "text/plain": [
       "'오늘은 7월 8일 입니다.'"
      ]
     },
     "execution_count": 9,
     "metadata": {},
     "output_type": "execute_result"
    }
   ],
   "source": [
    "month = 7\n",
    "s = \"오늘은 %d월 8일 입니다.\"%month\n",
    "s"
   ]
  },
  {
   "cell_type": "markdown",
   "id": "4136afc6",
   "metadata": {},
   "source": [
    "문자열 포맷팅 두번째 방법"
   ]
  },
  {
   "cell_type": "code",
   "execution_count": 15,
   "id": "d0cfb065",
   "metadata": {
    "scrolled": true
   },
   "outputs": [
    {
     "data": {
      "text/plain": [
       "'오늘은 7월 10일 입니다.'"
      ]
     },
     "execution_count": 15,
     "metadata": {},
     "output_type": "execute_result"
    }
   ],
   "source": [
    "month = 7\n",
    "day = 10\n",
    "s = \"오늘은 {}월 {}일 입니다.\".format(month,day)\n",
    "s"
   ]
  },
  {
   "cell_type": "markdown",
   "id": "d3644f2b",
   "metadata": {},
   "source": [
    "문자열 포맷팅 세번째 방법"
   ]
  },
  {
   "cell_type": "code",
   "execution_count": 13,
   "id": "1128e28a",
   "metadata": {},
   "outputs": [
    {
     "data": {
      "text/plain": [
       "'오늘은 7월 10일 입니다.'"
      ]
     },
     "execution_count": 13,
     "metadata": {},
     "output_type": "execute_result"
    }
   ],
   "source": [
    "month = 7\n",
    "day = 10\n",
    "s = f\"오늘은 {month}월 {day}일 입니다.\"\n",
    "s"
   ]
  },
  {
   "cell_type": "code",
   "execution_count": 11,
   "id": "feb745e8",
   "metadata": {},
   "outputs": [
    {
     "name": "stdout",
     "output_type": "stream",
     "text": [
      "100와 200의 합은 300입니다.\n",
      "100와 200의 합은 300입니다.\n"
     ]
    }
   ],
   "source": [
    "x = 100\n",
    "y = 200\n",
    "sum2 = x+y\n",
    "print(\"{}와 {}의 합은 {}입니다.\".format(x,y,sum2))\n",
    "print(f\"{x}와 {y}의 합은 {x+y}입니다.\")"
   ]
  },
  {
   "cell_type": "markdown",
   "id": "72d7857b",
   "metadata": {},
   "source": [
    "- 문자열에 포함된 문자 개수 세기 :count"
   ]
  },
  {
   "cell_type": "code",
   "execution_count": 32,
   "id": "662fdfa8",
   "metadata": {},
   "outputs": [],
   "source": [
    "s = \"용희씨의 롤 티어는 실버이고 민씨는 항상 용희씨를 갈굽니다.\""
   ]
  },
  {
   "cell_type": "code",
   "execution_count": 34,
   "id": "78592902",
   "metadata": {},
   "outputs": [
    {
     "data": {
      "text/plain": [
       "3"
      ]
     },
     "execution_count": 34,
     "metadata": {},
     "output_type": "execute_result"
    }
   ],
   "source": [
    "s.count(\"씨\")"
   ]
  },
  {
   "cell_type": "markdown",
   "id": "9705f9d5",
   "metadata": {},
   "source": [
    "- 문자열 양쪽 공백 지우기 : strip"
   ]
  },
  {
   "cell_type": "code",
   "execution_count": 38,
   "id": "e3ef3596",
   "metadata": {},
   "outputs": [],
   "source": [
    "s = \"  형호씨와 현중씨는 숨겨진 강자입니다.  \""
   ]
  },
  {
   "cell_type": "code",
   "execution_count": 39,
   "id": "54335cff",
   "metadata": {},
   "outputs": [
    {
     "data": {
      "text/plain": [
       "'형호씨와 현중씨는 숨겨진 강자입니다.'"
      ]
     },
     "execution_count": 39,
     "metadata": {},
     "output_type": "execute_result"
    }
   ],
   "source": [
    "s.strip()"
   ]
  },
  {
   "cell_type": "markdown",
   "id": "d252dca0",
   "metadata": {},
   "source": [
    "- 문자1을 문자2로 바꾸기 : replace('문자1','문자2')"
   ]
  },
  {
   "cell_type": "code",
   "execution_count": 40,
   "id": "377cb32c",
   "metadata": {},
   "outputs": [
    {
     "data": {
      "text/plain": [
       "'  형호씨와 현중씨는 숨겨진 약자입니다.  '"
      ]
     },
     "execution_count": 40,
     "metadata": {},
     "output_type": "execute_result"
    }
   ],
   "source": [
    "s.replace('강자', '약자')"
   ]
  },
  {
   "cell_type": "code",
   "execution_count": 41,
   "id": "6080e3f2",
   "metadata": {},
   "outputs": [
    {
     "data": {
      "text/plain": [
       "'형호씨와현중씨는숨겨진강자입니다.'"
      ]
     },
     "execution_count": 41,
     "metadata": {},
     "output_type": "execute_result"
    }
   ],
   "source": [
    "s.replace(\" \",\"\")"
   ]
  },
  {
   "cell_type": "markdown",
   "id": "2942444d",
   "metadata": {},
   "source": [
    "- 문자열 나누기:split"
   ]
  },
  {
   "cell_type": "code",
   "execution_count": 42,
   "id": "df913431",
   "metadata": {},
   "outputs": [
    {
     "data": {
      "text/plain": [
       "'  형호씨와 현중씨는 숨겨진 강자입니다.  '"
      ]
     },
     "execution_count": 42,
     "metadata": {},
     "output_type": "execute_result"
    }
   ],
   "source": [
    "s"
   ]
  },
  {
   "cell_type": "code",
   "execution_count": 43,
   "id": "ac5357cd",
   "metadata": {},
   "outputs": [
    {
     "data": {
      "text/plain": [
       "['  형호씨와 현중씨', ' 숨겨진 강자입니다.  ']"
      ]
     },
     "execution_count": 43,
     "metadata": {},
     "output_type": "execute_result"
    }
   ],
   "source": [
    "s.split(\"는\")"
   ]
  },
  {
   "cell_type": "code",
   "execution_count": 45,
   "id": "7504c442",
   "metadata": {},
   "outputs": [],
   "source": [
    "s = \"  형호씨와 현중씨는 숨겨진 강자는 아닙니다.  \""
   ]
  },
  {
   "cell_type": "code",
   "execution_count": 47,
   "id": "b36612b3",
   "metadata": {},
   "outputs": [
    {
     "data": {
      "text/plain": [
       "['  형호씨와 현중씨', ' 숨겨진 강자', ' 아닙니다.  ']"
      ]
     },
     "execution_count": 47,
     "metadata": {},
     "output_type": "execute_result"
    }
   ],
   "source": [
    "s.split(\"는\")"
   ]
  },
  {
   "cell_type": "markdown",
   "id": "45cd5d53",
   "metadata": {},
   "source": [
    "### 연산자"
   ]
  },
  {
   "cell_type": "code",
   "execution_count": 2,
   "id": "c11197ea",
   "metadata": {},
   "outputs": [
    {
     "name": "stdout",
     "output_type": "stream",
     "text": [
      "1.4285714285714286\n",
      "3\n",
      "1\n"
     ]
    }
   ],
   "source": [
    "num1 = 10\n",
    "num2 = 7\n",
    "\n",
    "print(num1/num2)\n",
    "print(num1%num2)\n",
    "print(num1//num2)"
   ]
  },
  {
   "cell_type": "code",
   "execution_count": 3,
   "id": "a0f86226",
   "metadata": {},
   "outputs": [
    {
     "name": "stdout",
     "output_type": "stream",
     "text": [
      "안녕하세요\n"
     ]
    }
   ],
   "source": [
    "str1 = \"안녕\"\n",
    "str2 = \"하세요\"\n",
    "\n",
    "print(str1 + str2)"
   ]
  },
  {
   "cell_type": "code",
   "execution_count": 4,
   "id": "fa0fa251",
   "metadata": {},
   "outputs": [
    {
     "name": "stdout",
     "output_type": "stream",
     "text": [
      "107\n"
     ]
    }
   ],
   "source": [
    "str1 =\"10\"\n",
    "str2 =\"7\"\n",
    "print(str1 + str2)"
   ]
  },
  {
   "cell_type": "code",
   "execution_count": 5,
   "id": "d5d15d14",
   "metadata": {},
   "outputs": [
    {
     "ename": "TypeError",
     "evalue": "unsupported operand type(s) for +: 'int' and 'str'",
     "output_type": "error",
     "traceback": [
      "\u001b[1;31m---------------------------------------------------------------------------\u001b[0m",
      "\u001b[1;31mTypeError\u001b[0m                                 Traceback (most recent call last)",
      "\u001b[1;32m<ipython-input-5-a7240c4786bd>\u001b[0m in \u001b[0;36m<module>\u001b[1;34m\u001b[0m\n\u001b[0;32m      2\u001b[0m \u001b[0mstr2\u001b[0m \u001b[1;33m=\u001b[0m \u001b[1;34m\"7\"\u001b[0m\u001b[1;33m\u001b[0m\u001b[1;33m\u001b[0m\u001b[0m\n\u001b[0;32m      3\u001b[0m \u001b[1;33m\u001b[0m\u001b[0m\n\u001b[1;32m----> 4\u001b[1;33m \u001b[0mprint\u001b[0m\u001b[1;33m(\u001b[0m\u001b[0mnum1\u001b[0m \u001b[1;33m+\u001b[0m \u001b[0mstr2\u001b[0m\u001b[1;33m)\u001b[0m\u001b[1;33m\u001b[0m\u001b[1;33m\u001b[0m\u001b[0m\n\u001b[0m",
      "\u001b[1;31mTypeError\u001b[0m: unsupported operand type(s) for +: 'int' and 'str'"
     ]
    }
   ],
   "source": [
    "num1 = 10\n",
    "str2 = \"7\"\n",
    "\n",
    "print(num1 + str2)"
   ]
  },
  {
   "cell_type": "code",
   "execution_count": 6,
   "id": "706d45be",
   "metadata": {},
   "outputs": [
    {
     "name": "stdout",
     "output_type": "stream",
     "text": [
      "107\n",
      "17\n"
     ]
    }
   ],
   "source": [
    "num1 = 10\n",
    "str2 = \"7\"\n",
    "\n",
    "print(str(num1) + str2)\n",
    "print(num1 + int(str2))"
   ]
  },
  {
   "cell_type": "code",
   "execution_count": 10,
   "id": "f8953461",
   "metadata": {},
   "outputs": [
    {
     "name": "stdout",
     "output_type": "stream",
     "text": [
      "더하기 결과 : 26\n",
      "빼기 결과 : 20\n",
      "곱하기 결과 :  69\n",
      "나누기 결과 : 7.666666666666667\n"
     ]
    }
   ],
   "source": [
    "num1 = 23\n",
    "num2 = 3\n",
    "print(\"더하기 결과 :\", num1+num2)\n",
    "print(\"빼기 결과 :\", num1-num2)\n",
    "print(\"곱하기 결과 :\", num1*num2)\n",
    "print(\"나누기 결과 :\", num1/num2)"
   ]
  },
  {
   "cell_type": "code",
   "execution_count": 12,
   "id": "8996abaa",
   "metadata": {},
   "outputs": [
    {
     "name": "stdout",
     "output_type": "stream",
     "text": [
      "정수를 입력하세요>>133\n"
     ]
    }
   ],
   "source": [
    "num = input(\"정수를 입력하세요>>\")"
   ]
  },
  {
   "cell_type": "code",
   "execution_count": 13,
   "id": "cf15feee",
   "metadata": {},
   "outputs": [
    {
     "data": {
      "text/plain": [
       "'133'"
      ]
     },
     "execution_count": 13,
     "metadata": {},
     "output_type": "execute_result"
    }
   ],
   "source": [
    "num"
   ]
  },
  {
   "cell_type": "code",
   "execution_count": 16,
   "id": "bb4e9ac4",
   "metadata": {},
   "outputs": [
    {
     "name": "stdout",
     "output_type": "stream",
     "text": [
      "정수를 입력하세요>>123\n"
     ]
    },
    {
     "data": {
      "text/plain": [
       "123"
      ]
     },
     "execution_count": 16,
     "metadata": {},
     "output_type": "execute_result"
    }
   ],
   "source": [
    "num = int(input(\"정수를 입력하세요>>\"))\n",
    "num"
   ]
  },
  {
   "cell_type": "code",
   "execution_count": 18,
   "id": "cfaa5c81",
   "metadata": {},
   "outputs": [
    {
     "name": "stdout",
     "output_type": "stream",
     "text": [
      "정수를 입력하세요 >> 3\n",
      "정수를 입력하세요 >> 7\n",
      "더하기 결과: 10\n",
      "빼기 결과: -4\n",
      "곱하기 결과: 21\n",
      "나누기 결과: 0.42857142857142855\n"
     ]
    }
   ],
   "source": [
    "num1 = int(input(\"정수를 입력하세요 >> \"))\n",
    "num2 = int(input(\"정수를 입력하세요 >> \"))\n",
    "print(\"더하기 결과:\", num1+num2)\n",
    "print(\"빼기 결과:\", num1-num2)\n",
    "print(\"곱하기 결과:\", num1*num2)\n",
    "print(\"나누기 결과:\", num1/num2)"
   ]
  },
  {
   "cell_type": "code",
   "execution_count": 13,
   "id": "015c827f",
   "metadata": {},
   "outputs": [
    {
     "name": "stdout",
     "output_type": "stream",
     "text": [
      "python 점수 입력 >>100\n",
      "머신러닝 점수 입력 >>80\n",
      "딥러닝 점수 입력 >>60\n",
      "합계 : 240\n",
      "평균 : 80.0\n",
      "합계 : 240\n",
      "평균 : 80.0\n"
     ]
    }
   ],
   "source": [
    "num1 = int(input(\"python 점수 입력 >>\"))\n",
    "num2 = int(input(\"머신러닝 점수 입력 >>\"))\n",
    "num3 = int(input(\"딥러닝 점수 입력 >>\"))\n",
    "\n",
    "print(\"합계 : {}\".format(num1+num2+num3))\n",
    "print(\"평균 : {}\".format((num1+num2+num3)/3))\n",
    "\n",
    "print(f\"합계 : {num1+num2+num3}\")\n",
    "print(f\"평균 : {(num1+num2+num3)/3}\")"
   ]
  },
  {
   "cell_type": "code",
   "execution_count": 42,
   "id": "3fbbbea0",
   "metadata": {},
   "outputs": [
    {
     "name": "stdout",
     "output_type": "stream",
     "text": [
      "시간 입력 >> 3723\n",
      "1시간 2분 3초\n"
     ]
    }
   ],
   "source": [
    "time = int(input(\"시간 입력 >> \"))\n",
    "hour = time//3600# 시간만 구하기 : 입력값에서 3600초로 나눠주면 시간이 나옴\n",
    "minute = time%3600//60 # 입력값에서 3600초로 나눈 나머지\n",
    "second = time%60 # 입력값에서 3600초로 나눈 나머지에 60으로 나눈 나머지\n",
    "print(f\"{hour}시간 {minute}분 {second}초\")"
   ]
  },
  {
   "cell_type": "code",
   "execution_count": 43,
   "id": "65f6053e",
   "metadata": {},
   "outputs": [
    {
     "name": "stdout",
     "output_type": "stream",
     "text": [
      "xxxxxxxxxx\n"
     ]
    }
   ],
   "source": [
    "s = \"x\"\n",
    "print(s*10)"
   ]
  },
  {
   "cell_type": "code",
   "execution_count": 44,
   "id": "08755236",
   "metadata": {},
   "outputs": [
    {
     "name": "stdout",
     "output_type": "stream",
     "text": [
      "안녕하세요안녕하세요\n"
     ]
    }
   ],
   "source": [
    "s = \"안녕하세요\"\n",
    "print(s*2)"
   ]
  },
  {
   "cell_type": "code",
   "execution_count": 47,
   "id": "92db9b49",
   "metadata": {},
   "outputs": [
    {
     "name": "stdout",
     "output_type": "stream",
     "text": [
      "정수 입력 >>2\n",
      "지수 입력 >>3\n",
      "2의 3승은 8입니다.\n"
     ]
    }
   ],
   "source": [
    "num = int(input(\"정수 입력 >>\"))\n",
    "power = int(input(\"지수 입력 >>\"))\n",
    "print(f\"{num}의 {power}승은 {num**power}입니다.\")"
   ]
  },
  {
   "cell_type": "code",
   "execution_count": 6,
   "id": "2010bf8d",
   "metadata": {},
   "outputs": [
    {
     "name": "stdout",
     "output_type": "stream",
     "text": [
      "********* 연산하기 *********\n",
      "정수입력 >>10\n",
      "정수입력 >>20\n",
      "+연산자 입력 >>+\n",
      "10 + 20 = 30\n"
     ]
    }
   ],
   "source": [
    "print(\"********* 연산하기 *********\")\n",
    "num1 = int(input(\"정수입력 >>\"))\n",
    "num2 = int(input(\"정수입력 >>\"))\n",
    "cal = input(\"+연산자 입력 >>\")\n",
    "print(f\"{num1} {cal} {num2} = {num1+num2}\")"
   ]
  },
  {
   "cell_type": "code",
   "execution_count": 15,
   "id": "5eb9523e",
   "metadata": {},
   "outputs": [
    {
     "name": "stdout",
     "output_type": "stream",
     "text": [
      "나이입력 >> 70\n",
      "요금은 375 원 입니다.\n"
     ]
    }
   ],
   "source": []
  },
  {
   "cell_type": "code",
   "execution_count": null,
   "id": "6afcd066",
   "metadata": {},
   "outputs": [],
   "source": []
  },
  {
   "cell_type": "code",
   "execution_count": null,
   "id": "e98fc4a6",
   "metadata": {},
   "outputs": [],
   "source": []
  }
 ],
 "metadata": {
  "kernelspec": {
   "display_name": "Python 3",
   "language": "python",
   "name": "python3"
  },
  "language_info": {
   "codemirror_mode": {
    "name": "ipython",
    "version": 3
   },
   "file_extension": ".py",
   "mimetype": "text/x-python",
   "name": "python",
   "nbconvert_exporter": "python",
   "pygments_lexer": "ipython3",
   "version": "3.8.8"
  }
 },
 "nbformat": 4,
 "nbformat_minor": 5
}
